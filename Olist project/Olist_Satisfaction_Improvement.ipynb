{
 "cells": [
  {
   "cell_type": "code",
   "execution_count": 1,
   "id": "8bd5608a",
   "metadata": {
    "slideshow": {
     "slide_type": "skip"
    },
    "tags": [
     "remove",
     "input"
    ]
   },
   "outputs": [],
   "source": [
    "%load_ext autoreload\n",
    "%autoreload 2\n",
    "import os\n",
    "import pandas as pd\n",
    "import matplotlib.pyplot as plt\n",
    "import seaborn as sns\n",
    "import numpy as np\n",
    "import statsmodels.formula.api as smf\n",
    "import math"
   ]
  },
  {
   "cell_type": "code",
   "execution_count": 783,
   "id": "f06bb89c",
   "metadata": {
    "slideshow": {
     "slide_type": "skip"
    }
   },
   "outputs": [
    {
     "ename": "SyntaxError",
     "evalue": "invalid syntax (3985455030.py, line 1)",
     "output_type": "error",
     "traceback": [
      "\u001b[0;36m  File \u001b[0;32m\"/var/folders/bh/j223y_td6s35mkxwj_m8bxdm0000gn/T/ipykernel_13430/3985455030.py\"\u001b[0;36m, line \u001b[0;32m1\u001b[0m\n\u001b[0;31m    jupyter nbconvert Olist_Satisfaction_Improvement.ipynb --to slides --post serve \\\u001b[0m\n\u001b[0m            ^\u001b[0m\n\u001b[0;31mSyntaxError\u001b[0m\u001b[0;31m:\u001b[0m invalid syntax\n"
     ]
    }
   ],
   "source": [
    "jupyter nbconvert Olist_Satisfaction_Improvement.ipynb --to slides --post serve \\\n",
    "--no-prompt \\\n",
    "--TagRemovePreprocessor.remove_input_tags=remove_input \\\n",
    "--TagRemovePreprocessor.remove_all_outputs_tags=remove_output"
   ]
  },
  {
   "cell_type": "code",
   "execution_count": 2,
   "id": "ec973456",
   "metadata": {
    "slideshow": {
     "slide_type": "skip"
    }
   },
   "outputs": [
    {
     "data": {
      "text/plain": [
       "dict_keys(['sellers', 'product_category_name_translation', 'orders', 'order_items', 'customers', 'geolocation', 'order_payments', 'order_reviews', 'products'])"
      ]
     },
     "execution_count": 2,
     "metadata": {},
     "output_type": "execute_result"
    }
   ],
   "source": [
    "# Load data\n",
    "import os\n",
    "from olist.data import Olist\n",
    "data=Olist().get_data()\n",
    "# get the names of the datasets\n",
    "data.keys()"
   ]
  },
  {
   "cell_type": "markdown",
   "id": "993c0def",
   "metadata": {
    "slideshow": {
     "slide_type": "skip"
    }
   },
   "source": [
    "### Motivations (can skip ): How is review_score contributed overall?"
   ]
  },
  {
   "cell_type": "code",
   "execution_count": 3,
   "id": "e6eb79ad",
   "metadata": {
    "slideshow": {
     "slide_type": "skip"
    }
   },
   "outputs": [],
   "source": [
    "review_df=data['order_reviews']\n"
   ]
  },
  {
   "cell_type": "markdown",
   "id": "ddf50614",
   "metadata": {
    "slideshow": {
     "slide_type": "skip"
    }
   },
   "source": [
    "Yes since the answer_timestamp has no missing values"
   ]
  },
  {
   "cell_type": "code",
   "execution_count": 4,
   "id": "034b1a83",
   "metadata": {
    "slideshow": {
     "slide_type": "skip"
    }
   },
   "outputs": [
    {
     "data": {
      "text/html": [
       "<div>\n",
       "<style scoped>\n",
       "    .dataframe tbody tr th:only-of-type {\n",
       "        vertical-align: middle;\n",
       "    }\n",
       "\n",
       "    .dataframe tbody tr th {\n",
       "        vertical-align: top;\n",
       "    }\n",
       "\n",
       "    .dataframe thead th {\n",
       "        text-align: right;\n",
       "    }\n",
       "</style>\n",
       "<table border=\"1\" class=\"dataframe\">\n",
       "  <thead>\n",
       "    <tr style=\"text-align: right;\">\n",
       "      <th></th>\n",
       "      <th>count</th>\n",
       "    </tr>\n",
       "    <tr>\n",
       "      <th>review_score</th>\n",
       "      <th></th>\n",
       "    </tr>\n",
       "  </thead>\n",
       "  <tbody>\n",
       "    <tr>\n",
       "      <th>1</th>\n",
       "      <td>11424</td>\n",
       "    </tr>\n",
       "    <tr>\n",
       "      <th>2</th>\n",
       "      <td>3151</td>\n",
       "    </tr>\n",
       "    <tr>\n",
       "      <th>3</th>\n",
       "      <td>8179</td>\n",
       "    </tr>\n",
       "    <tr>\n",
       "      <th>4</th>\n",
       "      <td>19142</td>\n",
       "    </tr>\n",
       "    <tr>\n",
       "      <th>5</th>\n",
       "      <td>57328</td>\n",
       "    </tr>\n",
       "  </tbody>\n",
       "</table>\n",
       "</div>"
      ],
      "text/plain": [
       "              count\n",
       "review_score       \n",
       "1             11424\n",
       "2              3151\n",
       "3              8179\n",
       "4             19142\n",
       "5             57328"
      ]
     },
     "execution_count": 4,
     "metadata": {},
     "output_type": "execute_result"
    }
   ],
   "source": [
    "\n",
    "grouped_df=review_df.groupby('review_score')[['review_id']].count()\n",
    "grouped_df.rename(columns={'review_id': 'count'},inplace=True)\n",
    "grouped_df\n",
    "\n"
   ]
  },
  {
   "cell_type": "code",
   "execution_count": 5,
   "id": "530ac93c",
   "metadata": {
    "slideshow": {
     "slide_type": "skip"
    },
    "tags": [
     "remove_input"
    ]
   },
   "outputs": [
    {
     "data": {
      "image/png": "[encoded data removed]",
      "text/plain": [
       "<Figure size 360x360 with 1 Axes>"
      ]
     },
     "metadata": {
      "needs_background": "light"
     },
     "output_type": "display_data"
    }
   ],
   "source": [
    "## plot the score \n",
    "p=sns.catplot(x=list(grouped_df.index),data=grouped_df,y='count',kind='bar',palette=sns.color_palette('winter_r',1))# need to covert into a list\n",
    "#dir('FacetGrid') get attribute of a FaceGrid object\n",
    "p.set(xlabel=''); # clean the x label"
   ]
  },
  {
   "cell_type": "markdown",
   "id": "670d214b",
   "metadata": {
    "slideshow": {
     "slide_type": "skip"
    }
   },
   "source": [
    "###  (can skip) How are the review_score contribute to sales of year 2018"
   ]
  },
  {
   "cell_type": "code",
   "execution_count": 6,
   "id": "c6f364e6",
   "metadata": {
    "slideshow": {
     "slide_type": "skip"
    }
   },
   "outputs": [
    {
     "name": "stderr",
     "output_type": "stream",
     "text": [
      "/Users/yayahuo/.pyenv/versions/3.8.13/envs/lewagon/lib/python3.8/site-packages/pandas/util/_decorators.py:311: SettingWithCopyWarning: \n",
      "A value is trying to be set on a copy of a slice from a DataFrame\n",
      "\n",
      "See the caveats in the documentation: https://pandas.pydata.org/pandas-docs/stable/user_guide/indexing.html#returning-a-view-versus-a-copy\n",
      "  return func(*args, **kwargs)\n"
     ]
    }
   ],
   "source": [
    "# Code logict\n",
    "# Extract data\n",
    "order_df=data['order_reviews'][['order_id','review_score'] ]\n",
    "order_df.drop_duplicates(inplace=True)\n",
    "\n",
    "#some orders have multiple scores by checking nunique of the order_id. Maybe the score has been improved\\\n",
    "# or maybe the customers bought different products from different sellers within one order.\n",
    "# We take max for such orders (we can also take mean, but for simplicity we take max)See Section 2.1 for details.\n",
    "grouped_order_df=order_df.groupby('order_id')[['review_score']].max()\n",
    "grouped_order_df.reset_index(inplace=True)\n",
    "grouped_order_df['review_score'].unique()\n",
    "\n",
    "\n",
    "payment_df=data['order_payments']\n",
    "# some orders are duplicate\n",
    "grouped_payment_df=payment_df.groupby('order_id')[['payment_value']].sum()\n",
    "\n",
    "\n",
    "#order_df[['order_approved_at','order_purchase_timestamp','order_delivered_carrier_date','order_delivered_customer_date','order_estimated_delivery_date']]\\\n",
    "#=order_df[['order_approved_at','order_purchase_timestamp','order_delivered_carrier_date','order_delivered_customer_date','order_estimated_delivery_date']].apply(lambda x : pd.to_datetime(x,errors='raise'))\n",
    "\n",
    "#order_payment=pd.merge(grouped_payment_df,grouped_order_df,on='order_id',how='left') #some order has no reviews \n",
    "order_payment=pd.merge(grouped_payment_df,grouped_order_df,on='order_id',how='inner') #some order has no reviews\n",
    "#order_payment.info()\n",
    "#order_payment.info()\n",
    "#order_payment['order_id'].nunique()\n",
    "\n",
    "\n",
    "order_payment['order_purchase_timestamp']=data['orders']['order_purchase_timestamp']\n",
    "\n",
    "\n",
    "# Convert the date_time \n",
    "## df.loc[[\"col1\", \"col2\", \"col3\"]] = df[[\"col1\", \"col2\", \"col3\"]].apply(lambda x : x.to_datetime(errors='raise'))\n",
    "order_payment['order_purchase_timestamp']=pd.to_datetime(order_payment['order_purchase_timestamp'],errors='ignore').dt.year\n",
    "order_payment.sort_values(by='order_purchase_timestamp',ascending=False,inplace=True)\n",
    "order_payment.rename(columns={'order_purchase_timestamp':'year'},inplace=True)\n",
    "#order_payment['review_score'].unique()\n",
    "\n",
    "# group data by year\n",
    "year_score_payment=order_payment.groupby(['year','review_score'])[['payment_value']].sum()\n",
    "year_score_payment\n",
    "year_score_payment.reset_index(inplace=True)\n",
    "year_score_payment\n",
    "# Pivot data\n",
    "year_score_payment_pivot=year_score_payment.pivot('year','review_score','payment_value')\n",
    "#year_score_payment_pivot"
   ]
  },
  {
   "cell_type": "code",
   "execution_count": 7,
   "id": "16ac96bd",
   "metadata": {
    "slideshow": {
     "slide_type": "skip"
    }
   },
   "outputs": [
    {
     "data": {
      "image/png": "[encoded data removed]",
      "text/plain": [
       "<Figure size 432x288 with 1 Axes>"
      ]
     },
     "metadata": {
      "needs_background": "light"
     },
     "output_type": "display_data"
    }
   ],
   "source": [
    "# Plot your graph!\n",
    "year_score_payment_pivot.plot.bar(stacked=True);"
   ]
  },
  {
   "cell_type": "markdown",
   "id": "9f2eda61",
   "metadata": {
    "slideshow": {
     "slide_type": "skip"
    }
   },
   "source": [
    "Remember, some of the 5's might come from even lower scores! As we took the max of each order, so don't be too optimistic!"
   ]
  },
  {
   "cell_type": "markdown",
   "id": "dea68dc6",
   "metadata": {
    "slideshow": {
     "slide_type": "slide"
    }
   },
   "source": [
    "# The Question: \n",
    "\n",
    "## How to increase customer satisfaction (so as to increase profit margin) while maintaining a healthy order volume?\n"
   ]
  },
  {
   "cell_type": "markdown",
   "id": "6182ba05",
   "metadata": {
    "slideshow": {
     "slide_type": "slide"
    }
   },
   "source": [
    "## We recommend:\n",
    "\n",
    "- Action 1: cut off consistently bad performing sellers while giving them several months of honeymoon\n",
    "\n",
    "\n",
    "\n",
    "- Action 2: Boost sales/increase prices in certain categories, removing worst performing products if necessary \n",
    "\n"
   ]
  },
  {
   "cell_type": "code",
   "execution_count": 49,
   "id": "67d8607a",
   "metadata": {
    "slideshow": {
     "slide_type": "skip"
    }
   },
   "outputs": [],
   "source": [
    "#download data\n",
    "from olist.seller_updated import Seller\n",
    "from olist.order_solution import Order\n",
    "from olist.data import Olist\n",
    "seller=Seller().get_training_data()\n",
    "\n"
   ]
  },
  {
   "cell_type": "markdown",
   "id": "904051db",
   "metadata": {
    "slideshow": {
     "slide_type": "slide"
    }
   },
   "source": [
    "### Action 1: cut off consistently bad performing sellers after several months of honeymoon \n"
   ]
  },
  {
   "cell_type": "markdown",
   "id": "0a7cc9d0",
   "metadata": {
    "slideshow": {
     "slide_type": "slide"
    }
   },
   "source": [
    "How is profit related to other quantities?"
   ]
  },
  {
   "cell_type": "code",
   "execution_count": 9,
   "id": "24578054",
   "metadata": {
    "slideshow": {
     "slide_type": "slide"
    },
    "tags": [
     "remove",
     "input"
    ]
   },
   "outputs": [
    {
     "data": {
      "text/html": [
       "<style type=\"text/css\">\n",
       "#T_31e57_row0_col0, #T_31e57_row1_col1, #T_31e57_row2_col2, #T_31e57_row3_col3, #T_31e57_row4_col4, #T_31e57_row5_col5, #T_31e57_row6_col6, #T_31e57_row7_col7, #T_31e57_row8_col8, #T_31e57_row9_col9, #T_31e57_row10_col10, #T_31e57_row11_col11, #T_31e57_row12_col12, #T_31e57_row13_col13 {\n",
       "  background-color: #b40426;\n",
       "  color: #f1f1f1;\n",
       "}\n",
       "#T_31e57_row0_col1 {\n",
       "  background-color: #f4c5ad;\n",
       "  color: #000000;\n",
       "}\n",
       "#T_31e57_row0_col2, #T_31e57_row0_col10, #T_31e57_row0_col11, #T_31e57_row3_col4, #T_31e57_row3_col5, #T_31e57_row5_col0, #T_31e57_row5_col1, #T_31e57_row5_col3, #T_31e57_row5_col9, #T_31e57_row6_col12, #T_31e57_row12_col6, #T_31e57_row12_col7, #T_31e57_row12_col8, #T_31e57_row12_col13 {\n",
       "  background-color: #3b4cc0;\n",
       "  color: #f1f1f1;\n",
       "}\n",
       "#T_31e57_row0_col3 {\n",
       "  background-color: #f6bda2;\n",
       "  color: #000000;\n",
       "}\n",
       "#T_31e57_row0_col4 {\n",
       "  background-color: #7b9ff9;\n",
       "  color: #f1f1f1;\n",
       "}\n",
       "#T_31e57_row0_col5, #T_31e57_row1_col8, #T_31e57_row12_col1 {\n",
       "  background-color: #9dbdff;\n",
       "  color: #000000;\n",
       "}\n",
       "#T_31e57_row0_col6, #T_31e57_row0_col12, #T_31e57_row11_col4 {\n",
       "  background-color: #a3c2fe;\n",
       "  color: #000000;\n",
       "}\n",
       "#T_31e57_row0_col7 {\n",
       "  background-color: #8caffe;\n",
       "  color: #000000;\n",
       "}\n",
       "#T_31e57_row0_col8 {\n",
       "  background-color: #8db0fe;\n",
       "  color: #000000;\n",
       "}\n",
       "#T_31e57_row0_col9, #T_31e57_row4_col0 {\n",
       "  background-color: #5572df;\n",
       "  color: #f1f1f1;\n",
       "}\n",
       "#T_31e57_row0_col13, #T_31e57_row5_col2 {\n",
       "  background-color: #4c66d6;\n",
       "  color: #f1f1f1;\n",
       "}\n",
       "#T_31e57_row1_col0 {\n",
       "  background-color: #f1cdba;\n",
       "  color: #000000;\n",
       "}\n",
       "#T_31e57_row1_col2 {\n",
       "  background-color: #6788ee;\n",
       "  color: #f1f1f1;\n",
       "}\n",
       "#T_31e57_row1_col3 {\n",
       "  background-color: #f7b396;\n",
       "  color: #000000;\n",
       "}\n",
       "#T_31e57_row1_col4 {\n",
       "  background-color: #6384eb;\n",
       "  color: #f1f1f1;\n",
       "}\n",
       "#T_31e57_row1_col5 {\n",
       "  background-color: #89acfd;\n",
       "  color: #000000;\n",
       "}\n",
       "#T_31e57_row1_col6, #T_31e57_row3_col6 {\n",
       "  background-color: #b5cdfa;\n",
       "  color: #000000;\n",
       "}\n",
       "#T_31e57_row1_col7, #T_31e57_row4_col6, #T_31e57_row5_col6, #T_31e57_row6_col4 {\n",
       "  background-color: #9bbcff;\n",
       "  color: #000000;\n",
       "}\n",
       "#T_31e57_row1_col9 {\n",
       "  background-color: #4e68d8;\n",
       "  color: #f1f1f1;\n",
       "}\n",
       "#T_31e57_row1_col10, #T_31e57_row9_col2 {\n",
       "  background-color: #506bda;\n",
       "  color: #f1f1f1;\n",
       "}\n",
       "#T_31e57_row1_col11 {\n",
       "  background-color: #5a78e4;\n",
       "  color: #f1f1f1;\n",
       "}\n",
       "#T_31e57_row1_col12 {\n",
       "  background-color: #aac7fd;\n",
       "  color: #000000;\n",
       "}\n",
       "#T_31e57_row1_col13 {\n",
       "  background-color: #688aef;\n",
       "  color: #f1f1f1;\n",
       "}\n",
       "#T_31e57_row2_col0, #T_31e57_row13_col0 {\n",
       "  background-color: #7295f4;\n",
       "  color: #f1f1f1;\n",
       "}\n",
       "#T_31e57_row2_col1 {\n",
       "  background-color: #adc9fd;\n",
       "  color: #000000;\n",
       "}\n",
       "#T_31e57_row2_col3, #T_31e57_row8_col3, #T_31e57_row8_col5, #T_31e57_row10_col5 {\n",
       "  background-color: #d2dbe8;\n",
       "  color: #000000;\n",
       "}\n",
       "#T_31e57_row2_col4, #T_31e57_row7_col1, #T_31e57_row8_col1, #T_31e57_row13_col1 {\n",
       "  background-color: #9fbfff;\n",
       "  color: #000000;\n",
       "}\n",
       "#T_31e57_row2_col5, #T_31e57_row7_col3, #T_31e57_row11_col5, #T_31e57_row11_col12 {\n",
       "  background-color: #d1dae9;\n",
       "  color: #000000;\n",
       "}\n",
       "#T_31e57_row2_col6, #T_31e57_row3_col1 {\n",
       "  background-color: #efcfbf;\n",
       "  color: #000000;\n",
       "}\n",
       "#T_31e57_row2_col7, #T_31e57_row2_col8 {\n",
       "  background-color: #edd1c2;\n",
       "  color: #000000;\n",
       "}\n",
       "#T_31e57_row2_col9 {\n",
       "  background-color: #4a63d3;\n",
       "  color: #f1f1f1;\n",
       "}\n",
       "#T_31e57_row2_col10 {\n",
       "  background-color: #c0d4f5;\n",
       "  color: #000000;\n",
       "}\n",
       "#T_31e57_row2_col11 {\n",
       "  background-color: #f5c2aa;\n",
       "  color: #000000;\n",
       "}\n",
       "#T_31e57_row2_col12, #T_31e57_row3_col0 {\n",
       "  background-color: #dddcdc;\n",
       "  color: #000000;\n",
       "}\n",
       "#T_31e57_row2_col13 {\n",
       "  background-color: #f7ad90;\n",
       "  color: #000000;\n",
       "}\n",
       "#T_31e57_row3_col2, #T_31e57_row8_col12 {\n",
       "  background-color: #4f69d9;\n",
       "  color: #f1f1f1;\n",
       "}\n",
       "#T_31e57_row3_col7, #T_31e57_row4_col8 {\n",
       "  background-color: #94b6ff;\n",
       "  color: #000000;\n",
       "}\n",
       "#T_31e57_row3_col8, #T_31e57_row5_col7, #T_31e57_row5_col8 {\n",
       "  background-color: #97b8ff;\n",
       "  color: #000000;\n",
       "}\n",
       "#T_31e57_row3_col9 {\n",
       "  background-color: #6687ed;\n",
       "  color: #f1f1f1;\n",
       "}\n",
       "#T_31e57_row3_col10, #T_31e57_row9_col11 {\n",
       "  background-color: #445acc;\n",
       "  color: #f1f1f1;\n",
       "}\n",
       "#T_31e57_row3_col11, #T_31e57_row6_col9, #T_31e57_row12_col9 {\n",
       "  background-color: #4961d2;\n",
       "  color: #f1f1f1;\n",
       "}\n",
       "#T_31e57_row3_col12, #T_31e57_row9_col8 {\n",
       "  background-color: #98b9ff;\n",
       "  color: #000000;\n",
       "}\n",
       "#T_31e57_row3_col13, #T_31e57_row4_col13 {\n",
       "  background-color: #5d7ce6;\n",
       "  color: #f1f1f1;\n",
       "}\n",
       "#T_31e57_row4_col1, #T_31e57_row7_col12 {\n",
       "  background-color: #516ddb;\n",
       "  color: #f1f1f1;\n",
       "}\n",
       "#T_31e57_row4_col2, #T_31e57_row7_col9, #T_31e57_row10_col9, #T_31e57_row11_col9 {\n",
       "  background-color: #455cce;\n",
       "  color: #f1f1f1;\n",
       "}\n",
       "#T_31e57_row4_col3, #T_31e57_row11_col0 {\n",
       "  background-color: #7a9df8;\n",
       "  color: #f1f1f1;\n",
       "}\n",
       "#T_31e57_row4_col5 {\n",
       "  background-color: #d65244;\n",
       "  color: #f1f1f1;\n",
       "}\n",
       "#T_31e57_row4_col7 {\n",
       "  background-color: #93b5fe;\n",
       "  color: #000000;\n",
       "}\n",
       "#T_31e57_row4_col9, #T_31e57_row5_col11 {\n",
       "  background-color: #465ecf;\n",
       "  color: #f1f1f1;\n",
       "}\n",
       "#T_31e57_row4_col10 {\n",
       "  background-color: #3f53c6;\n",
       "  color: #f1f1f1;\n",
       "}\n",
       "#T_31e57_row4_col11, #T_31e57_row5_col10 {\n",
       "  background-color: #4257c9;\n",
       "  color: #f1f1f1;\n",
       "}\n",
       "#T_31e57_row4_col12, #T_31e57_row12_col4 {\n",
       "  background-color: #b7cff9;\n",
       "  color: #000000;\n",
       "}\n",
       "#T_31e57_row5_col4 {\n",
       "  background-color: #dd5f4b;\n",
       "  color: #f1f1f1;\n",
       "}\n",
       "#T_31e57_row5_col12 {\n",
       "  background-color: #bed2f6;\n",
       "  color: #000000;\n",
       "}\n",
       "#T_31e57_row5_col13 {\n",
       "  background-color: #6485ec;\n",
       "  color: #f1f1f1;\n",
       "}\n",
       "#T_31e57_row6_col0, #T_31e57_row12_col0 {\n",
       "  background-color: #81a4fb;\n",
       "  color: #f1f1f1;\n",
       "}\n",
       "#T_31e57_row6_col1, #T_31e57_row9_col6, #T_31e57_row9_col12 {\n",
       "  background-color: #a7c5fe;\n",
       "  color: #000000;\n",
       "}\n",
       "#T_31e57_row6_col2, #T_31e57_row10_col12 {\n",
       "  background-color: #c6d6f1;\n",
       "  color: #000000;\n",
       "}\n",
       "#T_31e57_row6_col3 {\n",
       "  background-color: #dadce0;\n",
       "  color: #000000;\n",
       "}\n",
       "#T_31e57_row6_col5, #T_31e57_row10_col2 {\n",
       "  background-color: #c9d7f0;\n",
       "  color: #000000;\n",
       "}\n",
       "#T_31e57_row6_col7 {\n",
       "  background-color: #be242e;\n",
       "  color: #f1f1f1;\n",
       "}\n",
       "#T_31e57_row6_col8, #T_31e57_row7_col6, #T_31e57_row8_col6 {\n",
       "  background-color: #bd1f2d;\n",
       "  color: #f1f1f1;\n",
       "}\n",
       "#T_31e57_row6_col10, #T_31e57_row6_col11 {\n",
       "  background-color: #f29072;\n",
       "  color: #f1f1f1;\n",
       "}\n",
       "#T_31e57_row6_col13, #T_31e57_row10_col7, #T_31e57_row10_col8, #T_31e57_row11_col8 {\n",
       "  background-color: #e36b54;\n",
       "  color: #f1f1f1;\n",
       "}\n",
       "#T_31e57_row7_col0, #T_31e57_row8_col0 {\n",
       "  background-color: #7da0f9;\n",
       "  color: #f1f1f1;\n",
       "}\n",
       "#T_31e57_row7_col2, #T_31e57_row13_col3 {\n",
       "  background-color: #cfdaea;\n",
       "  color: #000000;\n",
       "}\n",
       "#T_31e57_row7_col4, #T_31e57_row9_col4, #T_31e57_row10_col1, #T_31e57_row10_col4 {\n",
       "  background-color: #a6c4fe;\n",
       "  color: #000000;\n",
       "}\n",
       "#T_31e57_row7_col5, #T_31e57_row10_col3, #T_31e57_row11_col3, #T_31e57_row13_col5 {\n",
       "  background-color: #d3dbe7;\n",
       "  color: #000000;\n",
       "}\n",
       "#T_31e57_row7_col8, #T_31e57_row8_col7 {\n",
       "  background-color: #b50927;\n",
       "  color: #f1f1f1;\n",
       "}\n",
       "#T_31e57_row7_col10, #T_31e57_row8_col11 {\n",
       "  background-color: #ec8165;\n",
       "  color: #f1f1f1;\n",
       "}\n",
       "#T_31e57_row7_col11 {\n",
       "  background-color: #ec7f63;\n",
       "  color: #f1f1f1;\n",
       "}\n",
       "#T_31e57_row7_col13 {\n",
       "  background-color: #d75445;\n",
       "  color: #f1f1f1;\n",
       "}\n",
       "#T_31e57_row8_col2 {\n",
       "  background-color: #cedaeb;\n",
       "  color: #000000;\n",
       "}\n",
       "#T_31e57_row8_col4, #T_31e57_row13_col4 {\n",
       "  background-color: #a5c3fe;\n",
       "  color: #000000;\n",
       "}\n",
       "#T_31e57_row8_col9 {\n",
       "  background-color: #4b64d5;\n",
       "  color: #f1f1f1;\n",
       "}\n",
       "#T_31e57_row8_col10 {\n",
       "  background-color: #ed8366;\n",
       "  color: #f1f1f1;\n",
       "}\n",
       "#T_31e57_row8_col13, #T_31e57_row13_col6 {\n",
       "  background-color: #d95847;\n",
       "  color: #f1f1f1;\n",
       "}\n",
       "#T_31e57_row9_col0, #T_31e57_row9_col7 {\n",
       "  background-color: #92b4fe;\n",
       "  color: #000000;\n",
       "}\n",
       "#T_31e57_row9_col1 {\n",
       "  background-color: #9ebeff;\n",
       "  color: #000000;\n",
       "}\n",
       "#T_31e57_row9_col3, #T_31e57_row12_col5 {\n",
       "  background-color: #dfdbd9;\n",
       "  color: #000000;\n",
       "}\n",
       "#T_31e57_row9_col5 {\n",
       "  background-color: #cad8ef;\n",
       "  color: #000000;\n",
       "}\n",
       "#T_31e57_row9_col10 {\n",
       "  background-color: #3e51c5;\n",
       "  color: #f1f1f1;\n",
       "}\n",
       "#T_31e57_row9_col13 {\n",
       "  background-color: #5977e3;\n",
       "  color: #f1f1f1;\n",
       "}\n",
       "#T_31e57_row10_col0 {\n",
       "  background-color: #80a3fa;\n",
       "  color: #f1f1f1;\n",
       "}\n",
       "#T_31e57_row10_col6 {\n",
       "  background-color: #e57058;\n",
       "  color: #f1f1f1;\n",
       "}\n",
       "#T_31e57_row10_col11, #T_31e57_row11_col10 {\n",
       "  background-color: #c0282f;\n",
       "  color: #f1f1f1;\n",
       "}\n",
       "#T_31e57_row10_col13 {\n",
       "  background-color: #f08b6e;\n",
       "  color: #f1f1f1;\n",
       "}\n",
       "#T_31e57_row11_col1 {\n",
       "  background-color: #a9c6fd;\n",
       "  color: #000000;\n",
       "}\n",
       "#T_31e57_row11_col2 {\n",
       "  background-color: #f6bfa6;\n",
       "  color: #000000;\n",
       "}\n",
       "#T_31e57_row11_col6, #T_31e57_row13_col11 {\n",
       "  background-color: #e67259;\n",
       "  color: #f1f1f1;\n",
       "}\n",
       "#T_31e57_row11_col7 {\n",
       "  background-color: #e26952;\n",
       "  color: #f1f1f1;\n",
       "}\n",
       "#T_31e57_row11_col13 {\n",
       "  background-color: #e36c55;\n",
       "  color: #f1f1f1;\n",
       "}\n",
       "#T_31e57_row12_col2 {\n",
       "  background-color: #a2c1ff;\n",
       "  color: #000000;\n",
       "}\n",
       "#T_31e57_row12_col3 {\n",
       "  background-color: #c7d7f0;\n",
       "  color: #000000;\n",
       "}\n",
       "#T_31e57_row12_col10 {\n",
       "  background-color: #6c8ff1;\n",
       "  color: #f1f1f1;\n",
       "}\n",
       "#T_31e57_row12_col11 {\n",
       "  background-color: #84a7fc;\n",
       "  color: #f1f1f1;\n",
       "}\n",
       "#T_31e57_row13_col2 {\n",
       "  background-color: #f7b497;\n",
       "  color: #000000;\n",
       "}\n",
       "#T_31e57_row13_col7 {\n",
       "  background-color: #d24b40;\n",
       "  color: #f1f1f1;\n",
       "}\n",
       "#T_31e57_row13_col8 {\n",
       "  background-color: #d44e41;\n",
       "  color: #f1f1f1;\n",
       "}\n",
       "#T_31e57_row13_col9 {\n",
       "  background-color: #4055c8;\n",
       "  color: #f1f1f1;\n",
       "}\n",
       "#T_31e57_row13_col10 {\n",
       "  background-color: #f39778;\n",
       "  color: #000000;\n",
       "}\n",
       "#T_31e57_row13_col12 {\n",
       "  background-color: #86a9fc;\n",
       "  color: #f1f1f1;\n",
       "}\n",
       "</style>\n",
       "<table id=\"T_31e57_\">\n",
       "  <thead>\n",
       "    <tr>\n",
       "      <th class=\"blank level0\" >&nbsp;</th>\n",
       "      <th class=\"col_heading level0 col0\" >delay_to_carrier</th>\n",
       "      <th class=\"col_heading level0 col1\" >wait_time</th>\n",
       "      <th class=\"col_heading level0 col2\" >months_on_olist</th>\n",
       "      <th class=\"col_heading level0 col3\" >share_of_one_stars</th>\n",
       "      <th class=\"col_heading level0 col4\" >share_of_five_stars</th>\n",
       "      <th class=\"col_heading level0 col5\" >review_score</th>\n",
       "      <th class=\"col_heading level0 col6\" >cost_of_reviews</th>\n",
       "      <th class=\"col_heading level0 col7\" >n_orders</th>\n",
       "      <th class=\"col_heading level0 col8\" >quantity</th>\n",
       "      <th class=\"col_heading level0 col9\" >quantity_per_order</th>\n",
       "      <th class=\"col_heading level0 col10\" >sales</th>\n",
       "      <th class=\"col_heading level0 col11\" >revenues</th>\n",
       "      <th class=\"col_heading level0 col12\" >profits</th>\n",
       "      <th class=\"col_heading level0 col13\" >IT_cost</th>\n",
       "    </tr>\n",
       "  </thead>\n",
       "  <tbody>\n",
       "    <tr>\n",
       "      <th id=\"T_31e57_level0_row0\" class=\"row_heading level0 row0\" >delay_to_carrier</th>\n",
       "      <td id=\"T_31e57_row0_col0\" class=\"data row0 col0\" >1.000000</td>\n",
       "      <td id=\"T_31e57_row0_col1\" class=\"data row0 col1\" >0.465205</td>\n",
       "      <td id=\"T_31e57_row0_col2\" class=\"data row0 col2\" >-0.084241</td>\n",
       "      <td id=\"T_31e57_row0_col3\" class=\"data row0 col3\" >0.346948</td>\n",
       "      <td id=\"T_31e57_row0_col4\" class=\"data row0 col4\" >-0.197933</td>\n",
       "      <td id=\"T_31e57_row0_col5\" class=\"data row0 col5\" >-0.314663</td>\n",
       "      <td id=\"T_31e57_row0_col6\" class=\"data row0 col6\" >-0.029257</td>\n",
       "      <td id=\"T_31e57_row0_col7\" class=\"data row0 col7\" >-0.045109</td>\n",
       "      <td id=\"T_31e57_row0_col8\" class=\"data row0 col8\" >-0.044400</td>\n",
       "      <td id=\"T_31e57_row0_col9\" class=\"data row0 col9\" >0.031106</td>\n",
       "      <td id=\"T_31e57_row0_col10\" class=\"data row0 col10\" >-0.036824</td>\n",
       "      <td id=\"T_31e57_row0_col11\" class=\"data row0 col11\" >-0.055792</td>\n",
       "      <td id=\"T_31e57_row0_col12\" class=\"data row0 col12\" >-0.029888</td>\n",
       "      <td id=\"T_31e57_row0_col13\" class=\"data row0 col13\" >-0.087450</td>\n",
       "    </tr>\n",
       "    <tr>\n",
       "      <th id=\"T_31e57_level0_row1\" class=\"row_heading level0 row1\" >wait_time</th>\n",
       "      <td id=\"T_31e57_row1_col0\" class=\"data row1 col0\" >0.465205</td>\n",
       "      <td id=\"T_31e57_row1_col1\" class=\"data row1 col1\" >1.000000</td>\n",
       "      <td id=\"T_31e57_row1_col2\" class=\"data row1 col2\" >0.069197</td>\n",
       "      <td id=\"T_31e57_row1_col3\" class=\"data row1 col3\" >0.403919</td>\n",
       "      <td id=\"T_31e57_row1_col4\" class=\"data row1 col4\" >-0.305907</td>\n",
       "      <td id=\"T_31e57_row1_col5\" class=\"data row1 col5\" >-0.414483</td>\n",
       "      <td id=\"T_31e57_row1_col6\" class=\"data row1 col6\" >0.047314</td>\n",
       "      <td id=\"T_31e57_row1_col7\" class=\"data row1 col7\" >0.014792</td>\n",
       "      <td id=\"T_31e57_row1_col8\" class=\"data row1 col8\" >0.015670</td>\n",
       "      <td id=\"T_31e57_row1_col9\" class=\"data row1 col9\" >0.006041</td>\n",
       "      <td id=\"T_31e57_row1_col10\" class=\"data row1 col10\" >0.039995</td>\n",
       "      <td id=\"T_31e57_row1_col11\" class=\"data row1 col11\" >0.054158</td>\n",
       "      <td id=\"T_31e57_row1_col12\" class=\"data row1 col12\" >0.000447</td>\n",
       "      <td id=\"T_31e57_row1_col13\" class=\"data row1 col13\" >0.013075</td>\n",
       "    </tr>\n",
       "    <tr>\n",
       "      <th id=\"T_31e57_level0_row2\" class=\"row_heading level0 row2\" >months_on_olist</th>\n",
       "      <td id=\"T_31e57_row2_col0\" class=\"data row2 col0\" >-0.084241</td>\n",
       "      <td id=\"T_31e57_row2_col1\" class=\"data row2 col1\" >0.069197</td>\n",
       "      <td id=\"T_31e57_row2_col2\" class=\"data row2 col2\" >1.000000</td>\n",
       "      <td id=\"T_31e57_row2_col3\" class=\"data row2 col3\" >-0.010003</td>\n",
       "      <td id=\"T_31e57_row2_col4\" class=\"data row2 col4\" >-0.044270</td>\n",
       "      <td id=\"T_31e57_row2_col5\" class=\"data row2 col5\" >-0.020279</td>\n",
       "      <td id=\"T_31e57_row2_col6\" class=\"data row2 col6\" >0.371743</td>\n",
       "      <td id=\"T_31e57_row2_col7\" class=\"data row2 col7\" >0.403276</td>\n",
       "      <td id=\"T_31e57_row2_col8\" class=\"data row2 col8\" >0.399137</td>\n",
       "      <td id=\"T_31e57_row2_col9\" class=\"data row2 col9\" >-0.007920</td>\n",
       "      <td id=\"T_31e57_row2_col10\" class=\"data row2 col10\" >0.377703</td>\n",
       "      <td id=\"T_31e57_row2_col11\" class=\"data row2 col11\" >0.611506</td>\n",
       "      <td id=\"T_31e57_row2_col12\" class=\"data row2 col12\" >0.250454</td>\n",
       "      <td id=\"T_31e57_row2_col13\" class=\"data row2 col13\" >0.650506</td>\n",
       "    </tr>\n",
       "    <tr>\n",
       "      <th id=\"T_31e57_level0_row3\" class=\"row_heading level0 row3\" >share_of_one_stars</th>\n",
       "      <td id=\"T_31e57_row3_col0\" class=\"data row3 col0\" >0.346948</td>\n",
       "      <td id=\"T_31e57_row3_col1\" class=\"data row3 col1\" >0.403919</td>\n",
       "      <td id=\"T_31e57_row3_col2\" class=\"data row3 col2\" >-0.010003</td>\n",
       "      <td id=\"T_31e57_row3_col3\" class=\"data row3 col3\" >1.000000</td>\n",
       "      <td id=\"T_31e57_row3_col4\" class=\"data row3 col4\" >-0.501308</td>\n",
       "      <td id=\"T_31e57_row3_col5\" class=\"data row3 col5\" >-0.865750</td>\n",
       "      <td id=\"T_31e57_row3_col6\" class=\"data row3 col6\" >0.045589</td>\n",
       "      <td id=\"T_31e57_row3_col7\" class=\"data row3 col7\" >-0.013146</td>\n",
       "      <td id=\"T_31e57_row3_col8\" class=\"data row3 col8\" >-0.009941</td>\n",
       "      <td id=\"T_31e57_row3_col9\" class=\"data row3 col9\" >0.083295</td>\n",
       "      <td id=\"T_31e57_row3_col10\" class=\"data row3 col10\" >-0.003197</td>\n",
       "      <td id=\"T_31e57_row3_col11\" class=\"data row3 col11\" >-0.005620</td>\n",
       "      <td id=\"T_31e57_row3_col12\" class=\"data row3 col12\" >-0.076312</td>\n",
       "      <td id=\"T_31e57_row3_col13\" class=\"data row3 col13\" >-0.025127</td>\n",
       "    </tr>\n",
       "    <tr>\n",
       "      <th id=\"T_31e57_level0_row4\" class=\"row_heading level0 row4\" >share_of_five_stars</th>\n",
       "      <td id=\"T_31e57_row4_col0\" class=\"data row4 col0\" >-0.197933</td>\n",
       "      <td id=\"T_31e57_row4_col1\" class=\"data row4 col1\" >-0.305907</td>\n",
       "      <td id=\"T_31e57_row4_col2\" class=\"data row4 col2\" >-0.044270</td>\n",
       "      <td id=\"T_31e57_row4_col3\" class=\"data row4 col3\" >-0.501308</td>\n",
       "      <td id=\"T_31e57_row4_col4\" class=\"data row4 col4\" >1.000000</td>\n",
       "      <td id=\"T_31e57_row4_col5\" class=\"data row4 col5\" >0.816508</td>\n",
       "      <td id=\"T_31e57_row4_col6\" class=\"data row4 col6\" >-0.063758</td>\n",
       "      <td id=\"T_31e57_row4_col7\" class=\"data row4 col7\" >-0.018925</td>\n",
       "      <td id=\"T_31e57_row4_col8\" class=\"data row4 col8\" >-0.020983</td>\n",
       "      <td id=\"T_31e57_row4_col9\" class=\"data row4 col9\" >-0.018934</td>\n",
       "      <td id=\"T_31e57_row4_col10\" class=\"data row4 col10\" >-0.017423</td>\n",
       "      <td id=\"T_31e57_row4_col11\" class=\"data row4 col11\" >-0.027672</td>\n",
       "      <td id=\"T_31e57_row4_col12\" class=\"data row4 col12\" >0.059552</td>\n",
       "      <td id=\"T_31e57_row4_col13\" class=\"data row4 col13\" >-0.024812</td>\n",
       "    </tr>\n",
       "    <tr>\n",
       "      <th id=\"T_31e57_level0_row5\" class=\"row_heading level0 row5\" >review_score</th>\n",
       "      <td id=\"T_31e57_row5_col0\" class=\"data row5 col0\" >-0.314663</td>\n",
       "      <td id=\"T_31e57_row5_col1\" class=\"data row5 col1\" >-0.414483</td>\n",
       "      <td id=\"T_31e57_row5_col2\" class=\"data row5 col2\" >-0.020279</td>\n",
       "      <td id=\"T_31e57_row5_col3\" class=\"data row5 col3\" >-0.865750</td>\n",
       "      <td id=\"T_31e57_row5_col4\" class=\"data row5 col4\" >0.816508</td>\n",
       "      <td id=\"T_31e57_row5_col5\" class=\"data row5 col5\" >1.000000</td>\n",
       "      <td id=\"T_31e57_row5_col6\" class=\"data row5 col6\" >-0.067490</td>\n",
       "      <td id=\"T_31e57_row5_col7\" class=\"data row5 col7\" >-0.004031</td>\n",
       "      <td id=\"T_31e57_row5_col8\" class=\"data row5 col8\" >-0.007250</td>\n",
       "      <td id=\"T_31e57_row5_col9\" class=\"data row5 col9\" >-0.063526</td>\n",
       "      <td id=\"T_31e57_row5_col10\" class=\"data row5 col10\" >-0.008545</td>\n",
       "      <td id=\"T_31e57_row5_col11\" class=\"data row5 col11\" >-0.013158</td>\n",
       "      <td id=\"T_31e57_row5_col12\" class=\"data row5 col12\" >0.084458</td>\n",
       "      <td id=\"T_31e57_row5_col13\" class=\"data row5 col13\" >-0.000344</td>\n",
       "    </tr>\n",
       "    <tr>\n",
       "      <th id=\"T_31e57_level0_row6\" class=\"row_heading level0 row6\" >cost_of_reviews</th>\n",
       "      <td id=\"T_31e57_row6_col0\" class=\"data row6 col0\" >-0.029257</td>\n",
       "      <td id=\"T_31e57_row6_col1\" class=\"data row6 col1\" >0.047314</td>\n",
       "      <td id=\"T_31e57_row6_col2\" class=\"data row6 col2\" >0.371743</td>\n",
       "      <td id=\"T_31e57_row6_col3\" class=\"data row6 col3\" >0.045589</td>\n",
       "      <td id=\"T_31e57_row6_col4\" class=\"data row6 col4\" >-0.063758</td>\n",
       "      <td id=\"T_31e57_row6_col5\" class=\"data row6 col5\" >-0.067490</td>\n",
       "      <td id=\"T_31e57_row6_col6\" class=\"data row6 col6\" >1.000000</td>\n",
       "      <td id=\"T_31e57_row6_col7\" class=\"data row6 col7\" >0.961199</td>\n",
       "      <td id=\"T_31e57_row6_col8\" class=\"data row6 col8\" >0.963295</td>\n",
       "      <td id=\"T_31e57_row6_col9\" class=\"data row6 col9\" >-0.010944</td>\n",
       "      <td id=\"T_31e57_row6_col10\" class=\"data row6 col10\" >0.762530</td>\n",
       "      <td id=\"T_31e57_row6_col11\" class=\"data row6 col11\" >0.758949</td>\n",
       "      <td id=\"T_31e57_row6_col12\" class=\"data row6 col12\" >-0.502615</td>\n",
       "      <td id=\"T_31e57_row6_col13\" class=\"data row6 col13\" >0.829966</td>\n",
       "    </tr>\n",
       "    <tr>\n",
       "      <th id=\"T_31e57_level0_row7\" class=\"row_heading level0 row7\" >n_orders</th>\n",
       "      <td id=\"T_31e57_row7_col0\" class=\"data row7 col0\" >-0.045109</td>\n",
       "      <td id=\"T_31e57_row7_col1\" class=\"data row7 col1\" >0.014792</td>\n",
       "      <td id=\"T_31e57_row7_col2\" class=\"data row7 col2\" >0.403276</td>\n",
       "      <td id=\"T_31e57_row7_col3\" class=\"data row7 col3\" >-0.013146</td>\n",
       "      <td id=\"T_31e57_row7_col4\" class=\"data row7 col4\" >-0.018925</td>\n",
       "      <td id=\"T_31e57_row7_col5\" class=\"data row7 col5\" >-0.004031</td>\n",
       "      <td id=\"T_31e57_row7_col6\" class=\"data row7 col6\" >0.961199</td>\n",
       "      <td id=\"T_31e57_row7_col7\" class=\"data row7 col7\" >1.000000</td>\n",
       "      <td id=\"T_31e57_row7_col8\" class=\"data row7 col8\" >0.993438</td>\n",
       "      <td id=\"T_31e57_row7_col9\" class=\"data row7 col9\" >-0.022247</td>\n",
       "      <td id=\"T_31e57_row7_col10\" class=\"data row7 col10\" >0.798981</td>\n",
       "      <td id=\"T_31e57_row7_col11\" class=\"data row7 col11\" >0.799203</td>\n",
       "      <td id=\"T_31e57_row7_col12\" class=\"data row7 col12\" >-0.390572</td>\n",
       "      <td id=\"T_31e57_row7_col13\" class=\"data row7 col13\" >0.879755</td>\n",
       "    </tr>\n",
       "    <tr>\n",
       "      <th id=\"T_31e57_level0_row8\" class=\"row_heading level0 row8\" >quantity</th>\n",
       "      <td id=\"T_31e57_row8_col0\" class=\"data row8 col0\" >-0.044400</td>\n",
       "      <td id=\"T_31e57_row8_col1\" class=\"data row8 col1\" >0.015670</td>\n",
       "      <td id=\"T_31e57_row8_col2\" class=\"data row8 col2\" >0.399137</td>\n",
       "      <td id=\"T_31e57_row8_col3\" class=\"data row8 col3\" >-0.009941</td>\n",
       "      <td id=\"T_31e57_row8_col4\" class=\"data row8 col4\" >-0.020983</td>\n",
       "      <td id=\"T_31e57_row8_col5\" class=\"data row8 col5\" >-0.007250</td>\n",
       "      <td id=\"T_31e57_row8_col6\" class=\"data row8 col6\" >0.963295</td>\n",
       "      <td id=\"T_31e57_row8_col7\" class=\"data row8 col7\" >0.993438</td>\n",
       "      <td id=\"T_31e57_row8_col8\" class=\"data row8 col8\" >1.000000</td>\n",
       "      <td id=\"T_31e57_row8_col9\" class=\"data row8 col9\" >-0.003549</td>\n",
       "      <td id=\"T_31e57_row8_col10\" class=\"data row8 col10\" >0.795229</td>\n",
       "      <td id=\"T_31e57_row8_col11\" class=\"data row8 col11\" >0.794802</td>\n",
       "      <td id=\"T_31e57_row8_col12\" class=\"data row8 col12\" >-0.399581</td>\n",
       "      <td id=\"T_31e57_row8_col13\" class=\"data row8 col13\" >0.872093</td>\n",
       "    </tr>\n",
       "    <tr>\n",
       "      <th id=\"T_31e57_level0_row9\" class=\"row_heading level0 row9\" >quantity_per_order</th>\n",
       "      <td id=\"T_31e57_row9_col0\" class=\"data row9 col0\" >0.031106</td>\n",
       "      <td id=\"T_31e57_row9_col1\" class=\"data row9 col1\" >0.006041</td>\n",
       "      <td id=\"T_31e57_row9_col2\" class=\"data row9 col2\" >-0.007920</td>\n",
       "      <td id=\"T_31e57_row9_col3\" class=\"data row9 col3\" >0.083295</td>\n",
       "      <td id=\"T_31e57_row9_col4\" class=\"data row9 col4\" >-0.018934</td>\n",
       "      <td id=\"T_31e57_row9_col5\" class=\"data row9 col5\" >-0.063526</td>\n",
       "      <td id=\"T_31e57_row9_col6\" class=\"data row9 col6\" >-0.010944</td>\n",
       "      <td id=\"T_31e57_row9_col7\" class=\"data row9 col7\" >-0.022247</td>\n",
       "      <td id=\"T_31e57_row9_col8\" class=\"data row9 col8\" >-0.003549</td>\n",
       "      <td id=\"T_31e57_row9_col9\" class=\"data row9 col9\" >1.000000</td>\n",
       "      <td id=\"T_31e57_row9_col10\" class=\"data row9 col10\" >-0.023534</td>\n",
       "      <td id=\"T_31e57_row9_col11\" class=\"data row9 col11\" >-0.022398</td>\n",
       "      <td id=\"T_31e57_row9_col12\" class=\"data row9 col12\" >-0.013209</td>\n",
       "      <td id=\"T_31e57_row9_col13\" class=\"data row9 col13\" >-0.040766</td>\n",
       "    </tr>\n",
       "    <tr>\n",
       "      <th id=\"T_31e57_level0_row10\" class=\"row_heading level0 row10\" >sales</th>\n",
       "      <td id=\"T_31e57_row10_col0\" class=\"data row10 col0\" >-0.036824</td>\n",
       "      <td id=\"T_31e57_row10_col1\" class=\"data row10 col1\" >0.039995</td>\n",
       "      <td id=\"T_31e57_row10_col2\" class=\"data row10 col2\" >0.377703</td>\n",
       "      <td id=\"T_31e57_row10_col3\" class=\"data row10 col3\" >-0.003197</td>\n",
       "      <td id=\"T_31e57_row10_col4\" class=\"data row10 col4\" >-0.017423</td>\n",
       "      <td id=\"T_31e57_row10_col5\" class=\"data row10 col5\" >-0.008545</td>\n",
       "      <td id=\"T_31e57_row10_col6\" class=\"data row10 col6\" >0.762530</td>\n",
       "      <td id=\"T_31e57_row10_col7\" class=\"data row10 col7\" >0.798981</td>\n",
       "      <td id=\"T_31e57_row10_col8\" class=\"data row10 col8\" >0.795229</td>\n",
       "      <td id=\"T_31e57_row10_col9\" class=\"data row10 col9\" >-0.023534</td>\n",
       "      <td id=\"T_31e57_row10_col10\" class=\"data row10 col10\" >1.000000</td>\n",
       "      <td id=\"T_31e57_row10_col11\" class=\"data row10 col11\" >0.963598</td>\n",
       "      <td id=\"T_31e57_row10_col12\" class=\"data row10 col12\" >0.127729</td>\n",
       "      <td id=\"T_31e57_row10_col13\" class=\"data row10 col13\" >0.748264</td>\n",
       "    </tr>\n",
       "    <tr>\n",
       "      <th id=\"T_31e57_level0_row11\" class=\"row_heading level0 row11\" >revenues</th>\n",
       "      <td id=\"T_31e57_row11_col0\" class=\"data row11 col0\" >-0.055792</td>\n",
       "      <td id=\"T_31e57_row11_col1\" class=\"data row11 col1\" >0.054158</td>\n",
       "      <td id=\"T_31e57_row11_col2\" class=\"data row11 col2\" >0.611506</td>\n",
       "      <td id=\"T_31e57_row11_col3\" class=\"data row11 col3\" >-0.005620</td>\n",
       "      <td id=\"T_31e57_row11_col4\" class=\"data row11 col4\" >-0.027672</td>\n",
       "      <td id=\"T_31e57_row11_col5\" class=\"data row11 col5\" >-0.013158</td>\n",
       "      <td id=\"T_31e57_row11_col6\" class=\"data row11 col6\" >0.758949</td>\n",
       "      <td id=\"T_31e57_row11_col7\" class=\"data row11 col7\" >0.799203</td>\n",
       "      <td id=\"T_31e57_row11_col8\" class=\"data row11 col8\" >0.794802</td>\n",
       "      <td id=\"T_31e57_row11_col9\" class=\"data row11 col9\" >-0.022398</td>\n",
       "      <td id=\"T_31e57_row11_col10\" class=\"data row11 col10\" >0.963598</td>\n",
       "      <td id=\"T_31e57_row11_col11\" class=\"data row11 col11\" >1.000000</td>\n",
       "      <td id=\"T_31e57_row11_col12\" class=\"data row11 col12\" >0.181467</td>\n",
       "      <td id=\"T_31e57_row11_col13\" class=\"data row11 col13\" >0.827251</td>\n",
       "    </tr>\n",
       "    <tr>\n",
       "      <th id=\"T_31e57_level0_row12\" class=\"row_heading level0 row12\" >profits</th>\n",
       "      <td id=\"T_31e57_row12_col0\" class=\"data row12 col0\" >-0.029888</td>\n",
       "      <td id=\"T_31e57_row12_col1\" class=\"data row12 col1\" >0.000447</td>\n",
       "      <td id=\"T_31e57_row12_col2\" class=\"data row12 col2\" >0.250454</td>\n",
       "      <td id=\"T_31e57_row12_col3\" class=\"data row12 col3\" >-0.076312</td>\n",
       "      <td id=\"T_31e57_row12_col4\" class=\"data row12 col4\" >0.059552</td>\n",
       "      <td id=\"T_31e57_row12_col5\" class=\"data row12 col5\" >0.084458</td>\n",
       "      <td id=\"T_31e57_row12_col6\" class=\"data row12 col6\" >-0.502615</td>\n",
       "      <td id=\"T_31e57_row12_col7\" class=\"data row12 col7\" >-0.390572</td>\n",
       "      <td id=\"T_31e57_row12_col8\" class=\"data row12 col8\" >-0.399581</td>\n",
       "      <td id=\"T_31e57_row12_col9\" class=\"data row12 col9\" >-0.013209</td>\n",
       "      <td id=\"T_31e57_row12_col10\" class=\"data row12 col10\" >0.127729</td>\n",
       "      <td id=\"T_31e57_row12_col11\" class=\"data row12 col11\" >0.181467</td>\n",
       "      <td id=\"T_31e57_row12_col12\" class=\"data row12 col12\" >1.000000</td>\n",
       "      <td id=\"T_31e57_row12_col13\" class=\"data row12 col13\" >-0.155139</td>\n",
       "    </tr>\n",
       "    <tr>\n",
       "      <th id=\"T_31e57_level0_row13\" class=\"row_heading level0 row13\" >IT_cost</th>\n",
       "      <td id=\"T_31e57_row13_col0\" class=\"data row13 col0\" >-0.087450</td>\n",
       "      <td id=\"T_31e57_row13_col1\" class=\"data row13 col1\" >0.013075</td>\n",
       "      <td id=\"T_31e57_row13_col2\" class=\"data row13 col2\" >0.650506</td>\n",
       "      <td id=\"T_31e57_row13_col3\" class=\"data row13 col3\" >-0.025127</td>\n",
       "      <td id=\"T_31e57_row13_col4\" class=\"data row13 col4\" >-0.024812</td>\n",
       "      <td id=\"T_31e57_row13_col5\" class=\"data row13 col5\" >-0.000344</td>\n",
       "      <td id=\"T_31e57_row13_col6\" class=\"data row13 col6\" >0.829966</td>\n",
       "      <td id=\"T_31e57_row13_col7\" class=\"data row13 col7\" >0.879755</td>\n",
       "      <td id=\"T_31e57_row13_col8\" class=\"data row13 col8\" >0.872093</td>\n",
       "      <td id=\"T_31e57_row13_col9\" class=\"data row13 col9\" >-0.040766</td>\n",
       "      <td id=\"T_31e57_row13_col10\" class=\"data row13 col10\" >0.748264</td>\n",
       "      <td id=\"T_31e57_row13_col11\" class=\"data row13 col11\" >0.827251</td>\n",
       "      <td id=\"T_31e57_row13_col12\" class=\"data row13 col12\" >-0.155139</td>\n",
       "      <td id=\"T_31e57_row13_col13\" class=\"data row13 col13\" >1.000000</td>\n",
       "    </tr>\n",
       "  </tbody>\n",
       "</table>\n"
      ],
      "text/plain": [
       "<pandas.io.formats.style.Styler at 0x189157f40>"
      ]
     },
     "execution_count": 9,
     "metadata": {},
     "output_type": "execute_result"
    }
   ],
   "source": [
    "# Invesitgate correlations inparticular profits vs score vs IT_cost\n",
    "#seller[['review_score','profit','IT_cost']].corr().style.background_gradient(cmap='coolwarm')\n",
    "seller.corr().style.background_gradient(cmap='coolwarm')"
   ]
  },
  {
   "cell_type": "markdown",
   "id": "eb6072a4",
   "metadata": {
    "slideshow": {
     "slide_type": "subslide"
    }
   },
   "source": [
    "👀 Observations\n",
    "\n",
    "-The top 4 important factors to profits are: \n",
    "\n",
    "\n",
    "   -cost_of_reviews(of course!) \n",
    "    \n",
    "    \n",
    "   -quantity\n",
    "    \n",
    "    \n",
    "   -number of orders\n",
    "    \n",
    "    \n",
    "   -***months on olist***  \n"
   ]
  },
  {
   "cell_type": "markdown",
   "id": "858091e4",
   "metadata": {
    "slideshow": {
     "slide_type": "slide"
    }
   },
   "source": [
    "We also did a regression model for further investigation to find factors to find important factors to Profit. Relevant features:\n",
    "\n"
   ]
  },
  {
   "cell_type": "code",
   "execution_count": 10,
   "id": "fe7738e6",
   "metadata": {
    "slideshow": {
     "slide_type": "skip"
    }
   },
   "outputs": [
    {
     "data": {
      "text/plain": [
       "Index(['seller_id', 'seller_city', 'seller_state', 'delay_to_carrier',\n",
       "       'wait_time', 'date_first_sale', 'date_last_sale', 'months_on_olist',\n",
       "       'share_of_one_stars', 'share_of_five_stars', 'review_score',\n",
       "       'cost_of_reviews', 'n_orders', 'quantity', 'quantity_per_order',\n",
       "       'sales', 'revenues', 'profits', 'IT_cost'],\n",
       "      dtype='object')"
      ]
     },
     "execution_count": 10,
     "metadata": {},
     "output_type": "execute_result"
    }
   ],
   "source": [
    "def standardize(df, features):\n",
    "    df_standardized = df.copy()\n",
    "    for f in features:\n",
    "        mu = df[f].mean()\n",
    "        sigma = df[f].std()\n",
    "        df_standardized[f] = df[f].map(lambda x: (x - mu) / sigma)\n",
    "    return df_standardized\n",
    "\n",
    "seller.columns\n"
   ]
  },
  {
   "cell_type": "code",
   "execution_count": 11,
   "id": "81438ec7",
   "metadata": {
    "slideshow": {
     "slide_type": "fragment"
    }
   },
   "outputs": [],
   "source": [
    "features=['delay_to_carrier',\n",
    "       'wait_time', 'date_first_sale', 'date_last_sale', 'months_on_olist',\n",
    "       'n_orders', 'quantity', 'quantity_per_order', 'sales',\n",
    "       'share_of_five_stars', 'share_of_one_stars', 'review_score',\n",
    "        'cost_of_reviews', 'revenues', 'IT_cost']\n",
    "\n",
    "seller_std=standardize(seller, features)\n",
    "\n",
    "model8=smf.ols(formula='profits~ delay_to_carrier+wait_time+months_on_olist+\\\n",
    "               n_orders+quantity+quantity_per_order+share_of_five_stars+sales+\\\n",
    "               share_of_one_stars+review_score+IT_cost',data=seller_std).fit()\n"
   ]
  },
  {
   "cell_type": "code",
   "execution_count": 12,
   "id": "b39867ec",
   "metadata": {
    "slideshow": {
     "slide_type": "slide"
    }
   },
   "outputs": [
    {
     "data": {
      "image/png": "[encoded data removed]",
      "text/plain": [
       "<Figure size 1440x432 with 1 Axes>"
      ]
     },
     "metadata": {
      "needs_background": "light"
     },
     "output_type": "display_data"
    }
   ],
   "source": [
    "plt.figure(figsize=(20,6))\n",
    "ax=model8.params[1:].sort_values().plot(kind='barh')\n",
    "ax.bar_label(ax.containers[0]);"
   ]
  },
  {
   "cell_type": "markdown",
   "id": "33cb5592",
   "metadata": {
    "slideshow": {
     "slide_type": "subslide"
    }
   },
   "source": [
    "👀Observations:\n",
    "\n",
    "1.share_of_one_star might not be relevant\n",
    "\n",
    "2.the top five important features are:\n",
    "\n",
    "sales (+1441.51)\n",
    "\n",
    "quantity(-)\n",
    "\n",
    "number of orders (+)\n",
    "\n",
    "months on olist (-471.54)\n",
    "\n",
    "review_score (+158.749)"
   ]
  },
  {
   "cell_type": "markdown",
   "id": "d94bc52a",
   "metadata": {
    "slideshow": {
     "slide_type": "slide"
    }
   },
   "source": [
    "Validate the model\n",
    "\n"
   ]
  },
  {
   "cell_type": "code",
   "execution_count": 13,
   "id": "1544daf9",
   "metadata": {
    "scrolled": true,
    "slideshow": {
     "slide_type": "fragment"
    },
    "tags": [
     "remove inpute"
    ]
   },
   "outputs": [
    {
     "data": {
      "image/png": "[encoded data removed]",
      "text/plain": [
       "<Figure size 432x288 with 2 Axes>"
      ]
     },
     "metadata": {
      "needs_background": "light"
     },
     "output_type": "display_data"
    }
   ],
   "source": [
    "profit_pred = model8.predict(seller_std[features])\n",
    "profit_true = seller_std['profits']\n",
    "plt.subplot(1,2,1)\n",
    "sns.kdeplot(profit_pred, label='predicted profit')\n",
    "sns.kdeplot(profit_true, label='true profit', color='orange')\n",
    "plt.legend();\n",
    "\n",
    "plt.subplot(1,2,2)\n",
    "residuals = profit_pred - profit_true\n",
    "sns.histplot(residuals, stat='density', kde=True, bins=1000)\n",
    "plt.xlabel('residuals');\n",
    "plt.tight_layout()"
   ]
  },
  {
   "cell_type": "code",
   "execution_count": 14,
   "id": "31155874",
   "metadata": {
    "slideshow": {
     "slide_type": "skip"
    }
   },
   "outputs": [
    {
     "data": {
      "image/png": "[encoded data removed]",
      "text/plain": [
       "<Figure size 288x288 with 1 Axes>"
      ]
     },
     "metadata": {
      "needs_background": "light"
     },
     "output_type": "display_data"
    }
   ],
   "source": [
    "# Plot the residuals (differences between our predictions and the true value)\n",
    "fig = plt.figure(figsize=(4, 4))\n",
    "residuals = profit_pred - profit_true\n",
    "sns.histplot(residuals, stat='density', kde=True, bins=1000)\n",
    "plt.xlabel('residuals');\n",
    "#plt.xlim(left=-2000,right=2000);"
   ]
  },
  {
   "cell_type": "markdown",
   "id": "653b736e",
   "metadata": {
    "slideshow": {
     "slide_type": "fragment"
    }
   },
   "source": [
    "Most of the residuals are gathered around 0, so model works!"
   ]
  },
  {
   "cell_type": "code",
   "execution_count": 15,
   "id": "6ab14378",
   "metadata": {
    "slideshow": {
     "slide_type": "subslide"
    }
   },
   "outputs": [
    {
     "data": {
      "text/plain": [
       "0.8504484857784589"
      ]
     },
     "execution_count": 15,
     "metadata": {},
     "output_type": "execute_result"
    }
   ],
   "source": [
    "# Print rsqured value of the model (the closer to 1 the better)\n",
    "model8.rsquared"
   ]
  },
  {
   "cell_type": "markdown",
   "id": "d653b986",
   "metadata": {
    "slideshow": {
     "slide_type": "slide"
    }
   },
   "source": [
    "Interpretations of the coefficients\n"
   ]
  },
  {
   "cell_type": "code",
   "execution_count": 16,
   "id": "a5ab90d5",
   "metadata": {
    "slideshow": {
     "slide_type": "skip"
    }
   },
   "outputs": [],
   "source": [
    "# Change numerical format (defualt scientific notation, hard to read)\n",
    "pd.options.display.float_format = '{:.3f}'.format"
   ]
  },
  {
   "cell_type": "code",
   "execution_count": 17,
   "id": "27f508ec",
   "metadata": {
    "slideshow": {
     "slide_type": "subslide"
    }
   },
   "outputs": [
    {
     "data": {
      "text/html": [
       "<div>\n",
       "<style scoped>\n",
       "    .dataframe tbody tr th:only-of-type {\n",
       "        vertical-align: middle;\n",
       "    }\n",
       "\n",
       "    .dataframe tbody tr th {\n",
       "        vertical-align: top;\n",
       "    }\n",
       "\n",
       "    .dataframe thead th {\n",
       "        text-align: right;\n",
       "    }\n",
       "</style>\n",
       "<table border=\"1\" class=\"dataframe\">\n",
       "  <thead>\n",
       "    <tr style=\"text-align: right;\">\n",
       "      <th></th>\n",
       "      <th>coef</th>\n",
       "      <th>p-value</th>\n",
       "    </tr>\n",
       "  </thead>\n",
       "  <tbody>\n",
       "    <tr>\n",
       "      <th>Intercept</th>\n",
       "      <td>393.532</td>\n",
       "      <td>0.000</td>\n",
       "    </tr>\n",
       "    <tr>\n",
       "      <th>delay_to_carrier</th>\n",
       "      <td>29.574</td>\n",
       "      <td>0.004</td>\n",
       "    </tr>\n",
       "    <tr>\n",
       "      <th>wait_time</th>\n",
       "      <td>-26.919</td>\n",
       "      <td>0.012</td>\n",
       "    </tr>\n",
       "    <tr>\n",
       "      <th>months_on_olist</th>\n",
       "      <td>471.540</td>\n",
       "      <td>0.000</td>\n",
       "    </tr>\n",
       "    <tr>\n",
       "      <th>n_orders</th>\n",
       "      <td>-766.207</td>\n",
       "      <td>0.000</td>\n",
       "    </tr>\n",
       "    <tr>\n",
       "      <th>quantity</th>\n",
       "      <td>-1185.526</td>\n",
       "      <td>0.000</td>\n",
       "    </tr>\n",
       "    <tr>\n",
       "      <th>quantity_per_order</th>\n",
       "      <td>12.825</td>\n",
       "      <td>0.158</td>\n",
       "    </tr>\n",
       "    <tr>\n",
       "      <th>share_of_five_stars</th>\n",
       "      <td>-41.681</td>\n",
       "      <td>0.058</td>\n",
       "    </tr>\n",
       "    <tr>\n",
       "      <th>sales</th>\n",
       "      <td>1441.507</td>\n",
       "      <td>0.000</td>\n",
       "    </tr>\n",
       "    <tr>\n",
       "      <th>share_of_one_stars</th>\n",
       "      <td>11.394</td>\n",
       "      <td>0.655</td>\n",
       "    </tr>\n",
       "    <tr>\n",
       "      <th>review_score</th>\n",
       "      <td>158.749</td>\n",
       "      <td>0.000</td>\n",
       "    </tr>\n",
       "    <tr>\n",
       "      <th>IT_cost</th>\n",
       "      <td>131.302</td>\n",
       "      <td>0.000</td>\n",
       "    </tr>\n",
       "  </tbody>\n",
       "</table>\n",
       "</div>"
      ],
      "text/plain": [
       "                         coef  p-value\n",
       "Intercept             393.532    0.000\n",
       "delay_to_carrier       29.574    0.004\n",
       "wait_time             -26.919    0.012\n",
       "months_on_olist       471.540    0.000\n",
       "n_orders             -766.207    0.000\n",
       "quantity            -1185.526    0.000\n",
       "quantity_per_order     12.825    0.158\n",
       "share_of_five_stars   -41.681    0.058\n",
       "sales                1441.507    0.000\n",
       "share_of_one_stars     11.394    0.655\n",
       "review_score          158.749    0.000\n",
       "IT_cost               131.302    0.000"
      ]
     },
     "execution_count": 17,
     "metadata": {},
     "output_type": "execute_result"
    }
   ],
   "source": [
    "pd.DataFrame([model8.params,model8.pvalues]).T.rename(columns={0:'coef',1:'p-value'})"
   ]
  },
  {
   "cell_type": "code",
   "execution_count": 18,
   "id": "dcaaa0b2",
   "metadata": {
    "slideshow": {
     "slide_type": "subslide"
    }
   },
   "outputs": [
    {
     "data": {
      "image/png": "[encoded data removed]",
      "text/plain": [
       "<Figure size 1440x432 with 1 Axes>"
      ]
     },
     "metadata": {
      "needs_background": "light"
     },
     "output_type": "display_data"
    }
   ],
   "source": [
    "plt.figure(figsize=(20,6))\n",
    "ax=model8.params[1:].sort_values().plot(kind='barh')\n",
    "ax.bar_label(ax.containers[0]);"
   ]
  },
  {
   "cell_type": "markdown",
   "id": "902c53b5",
   "metadata": {
    "slideshow": {
     "slide_type": "slide"
    }
   },
   "source": [
    "👀Observations:\n",
    "   \n",
    "   \n",
    "  1.share_of_one_star might not be relevant\n",
    "  \n",
    "  \n",
    "  2.the top five important features are: \n",
    "  \n",
    "  - **sales** (+1441.51)\n",
    "  \n",
    "  - quantity(-)\n",
    "  \n",
    "  - number of orders (+)\n",
    "  \n",
    "  - **months on olist** (-471.54)\n",
    "  \n",
    "  - review_score\t(+158.749)\n",
    "  \n",
    "  "
   ]
  },
  {
   "cell_type": "markdown",
   "id": "e5524623",
   "metadata": {
    "slideshow": {
     "slide_type": "slide"
    }
   },
   "source": [
    "### How do we do that?\n",
    "\n",
    "- Give each seller several months of honeymoon (probation)\n",
    "\n",
    "- Evaluate their performance by the end of their honeymoons\n",
    "\n",
    "- Cut off consistently **bad-performing sellers**:\n",
    " \n",
    "   -having profit<0\n",
    "   \n",
    "   **or**\n",
    "   \n",
    "   -with average score < certain threshold (e.g. 1.5)\n"
   ]
  },
  {
   "cell_type": "markdown",
   "id": "7f55a600",
   "metadata": {
    "slideshow": {
     "slide_type": "slide"
    }
   },
   "source": [
    "How long is the honeymoon?\n",
    "\n",
    "- 3 months, 6 months, 8 months, 10 months, 12 months, 14 months, or 18 months?\n",
    "\n",
    "\n",
    "\n",
    "What score is considered \"bad\"?\n",
    "\n",
    "- average score <1.5, <  2.5,  <  3.5 or  <  4?\n",
    "\n",
    "\n"
   ]
  },
  {
   "cell_type": "code",
   "execution_count": 19,
   "id": "7b9cb356",
   "metadata": {
    "slideshow": {
     "slide_type": "subslide"
    }
   },
   "outputs": [
    {
     "data": {
      "image/png": "[encoded data removed]",
      "text/plain": [
       "<Figure size 432x288 with 1 Axes>"
      ]
     },
     "metadata": {
      "needs_background": "light"
     },
     "output_type": "display_data"
    }
   ],
   "source": [
    "seller[['months_on_olist','profits']].groupby('months_on_olist').sum().plot()\n",
    "total_profits=seller['profits'].sum()\n",
    "plt.ylabel('profits');"
   ]
  },
  {
   "cell_type": "markdown",
   "id": "c36e1434",
   "metadata": {
    "slideshow": {
     "slide_type": "fragment"
    }
   },
   "source": [
    "Reasonable choices for honeymoon: 3 months, 6 months, 8 months, 10 months, 12 months, 14 months, "
   ]
  },
  {
   "cell_type": "markdown",
   "id": "b54ffb5a",
   "metadata": {
    "slideshow": {
     "slide_type": "subslide"
    }
   },
   "source": [
    "What score is considered \"bad\"?"
   ]
  },
  {
   "cell_type": "code",
   "execution_count": 20,
   "id": "bc2ba072",
   "metadata": {
    "slideshow": {
     "slide_type": "subslide"
    }
   },
   "outputs": [
    {
     "data": {
      "image/png": "[encoded data removed]",
      "text/plain": [
       "<Figure size 432x288 with 1 Axes>"
      ]
     },
     "metadata": {
      "needs_background": "light"
     },
     "output_type": "display_data"
    }
   ],
   "source": [
    "seller_neg=seller[seller['profits']<0]\n",
    "seller_pos=seller[seller['profits']>=0]\n",
    "# Get the total number of orders from\n",
    "sns.histplot(seller_neg['review_score'],kde=1,label='negative profit')\n",
    "sns.histplot(seller_pos['review_score'],kde=True,label='positive profit',color='orange')\n",
    "plt.legend();"
   ]
  },
  {
   "cell_type": "code",
   "execution_count": 21,
   "id": "a0f77646",
   "metadata": {
    "slideshow": {
     "slide_type": "subslide"
    }
   },
   "outputs": [
    {
     "data": {
      "text/html": [
       "<div>\n",
       "<style scoped>\n",
       "    .dataframe tbody tr th:only-of-type {\n",
       "        vertical-align: middle;\n",
       "    }\n",
       "\n",
       "    .dataframe tbody tr th {\n",
       "        vertical-align: top;\n",
       "    }\n",
       "\n",
       "    .dataframe thead th {\n",
       "        text-align: right;\n",
       "    }\n",
       "</style>\n",
       "<table border=\"1\" class=\"dataframe\">\n",
       "  <thead>\n",
       "    <tr style=\"text-align: right;\">\n",
       "      <th></th>\n",
       "      <th>score_of_neg_sellers</th>\n",
       "      <th>score_of_pos_sellers</th>\n",
       "    </tr>\n",
       "  </thead>\n",
       "  <tbody>\n",
       "    <tr>\n",
       "      <th>count</th>\n",
       "      <td>376.000</td>\n",
       "      <td>2591.000</td>\n",
       "    </tr>\n",
       "    <tr>\n",
       "      <th>mean</th>\n",
       "      <td>3.036</td>\n",
       "      <td>4.256</td>\n",
       "    </tr>\n",
       "    <tr>\n",
       "      <th>std</th>\n",
       "      <td>1.061</td>\n",
       "      <td>0.620</td>\n",
       "    </tr>\n",
       "    <tr>\n",
       "      <th>min</th>\n",
       "      <td>1.000</td>\n",
       "      <td>1.000</td>\n",
       "    </tr>\n",
       "    <tr>\n",
       "      <th>25%</th>\n",
       "      <td>2.500</td>\n",
       "      <td>4.000</td>\n",
       "    </tr>\n",
       "    <tr>\n",
       "      <th>50%</th>\n",
       "      <td>3.298</td>\n",
       "      <td>4.310</td>\n",
       "    </tr>\n",
       "    <tr>\n",
       "      <th>75%</th>\n",
       "      <td>3.917</td>\n",
       "      <td>4.714</td>\n",
       "    </tr>\n",
       "    <tr>\n",
       "      <th>max</th>\n",
       "      <td>4.500</td>\n",
       "      <td>5.000</td>\n",
       "    </tr>\n",
       "  </tbody>\n",
       "</table>\n",
       "</div>"
      ],
      "text/plain": [
       "       score_of_neg_sellers  score_of_pos_sellers\n",
       "count               376.000              2591.000\n",
       "mean                  3.036                 4.256\n",
       "std                   1.061                 0.620\n",
       "min                   1.000                 1.000\n",
       "25%                   2.500                 4.000\n",
       "50%                   3.298                 4.310\n",
       "75%                   3.917                 4.714\n",
       "max                   4.500                 5.000"
      ]
     },
     "execution_count": 21,
     "metadata": {},
     "output_type": "execute_result"
    }
   ],
   "source": [
    "s1=seller_neg[['review_score']].describe()\n",
    "s2=seller_pos[['review_score']].describe()\n",
    "s=pd.concat([s1,s2],axis=1)\n",
    "s.columns=['score_of_neg_sellers','score_of_pos_sellers']\n",
    "s"
   ]
  },
  {
   "cell_type": "markdown",
   "id": "21e5aa6a",
   "metadata": {
    "slideshow": {
     "slide_type": "fragment"
    }
   },
   "source": [
    "Maybe those with an average score $<$ 2.5, $<$ 3.5 or $<$ 4 should be filtered?"
   ]
  },
  {
   "cell_type": "code",
   "execution_count": 22,
   "id": "b76192da",
   "metadata": {
    "slideshow": {
     "slide_type": "skip"
    }
   },
   "outputs": [
    {
     "data": {
      "text/html": [
       "<div>\n",
       "<style scoped>\n",
       "    .dataframe tbody tr th:only-of-type {\n",
       "        vertical-align: middle;\n",
       "    }\n",
       "\n",
       "    .dataframe tbody tr th {\n",
       "        vertical-align: top;\n",
       "    }\n",
       "\n",
       "    .dataframe thead th {\n",
       "        text-align: right;\n",
       "    }\n",
       "</style>\n",
       "<table border=\"1\" class=\"dataframe\">\n",
       "  <thead>\n",
       "    <tr style=\"text-align: right;\">\n",
       "      <th>length_of_honeymoon</th>\n",
       "      <th>3</th>\n",
       "      <th>6</th>\n",
       "      <th>8</th>\n",
       "      <th>10</th>\n",
       "      <th>12</th>\n",
       "      <th>14</th>\n",
       "      <th>18</th>\n",
       "    </tr>\n",
       "    <tr>\n",
       "      <th>index</th>\n",
       "      <th></th>\n",
       "      <th></th>\n",
       "      <th></th>\n",
       "      <th></th>\n",
       "      <th></th>\n",
       "      <th></th>\n",
       "      <th></th>\n",
       "    </tr>\n",
       "  </thead>\n",
       "  <tbody>\n",
       "    <tr>\n",
       "      <th>score &lt;=1.5</th>\n",
       "      <td>289332.182</td>\n",
       "      <td>273513.072</td>\n",
       "      <td>252985.913</td>\n",
       "      <td>242018.594</td>\n",
       "      <td>210867.829</td>\n",
       "      <td>170049.870</td>\n",
       "      <td>137546.508</td>\n",
       "    </tr>\n",
       "    <tr>\n",
       "      <th>score &lt;=2.5</th>\n",
       "      <td>277498.551</td>\n",
       "      <td>264336.479</td>\n",
       "      <td>247493.513</td>\n",
       "      <td>237950.194</td>\n",
       "      <td>206799.429</td>\n",
       "      <td>165981.470</td>\n",
       "      <td>137546.508</td>\n",
       "    </tr>\n",
       "    <tr>\n",
       "      <th>score &lt;=3.5</th>\n",
       "      <td>207334.148</td>\n",
       "      <td>204960.433</td>\n",
       "      <td>204147.078</td>\n",
       "      <td>203891.361</td>\n",
       "      <td>177881.796</td>\n",
       "      <td>143095.672</td>\n",
       "      <td>130309.083</td>\n",
       "    </tr>\n",
       "    <tr>\n",
       "      <th>score &lt;=4</th>\n",
       "      <td>-17212.097</td>\n",
       "      <td>9984.410</td>\n",
       "      <td>31653.274</td>\n",
       "      <td>63238.651</td>\n",
       "      <td>62468.254</td>\n",
       "      <td>58113.390</td>\n",
       "      <td>95080.445</td>\n",
       "    </tr>\n",
       "  </tbody>\n",
       "</table>\n",
       "</div>"
      ],
      "text/plain": [
       "length_of_honeymoon         3          6          8          10         12  \\\n",
       "index                                                                        \n",
       "score <=1.5         289332.182 273513.072 252985.913 242018.594 210867.829   \n",
       "score <=2.5         277498.551 264336.479 247493.513 237950.194 206799.429   \n",
       "score <=3.5         207334.148 204960.433 204147.078 203891.361 177881.796   \n",
       "score <=4           -17212.097   9984.410  31653.274  63238.651  62468.254   \n",
       "\n",
       "length_of_honeymoon         14         18  \n",
       "index                                      \n",
       "score <=1.5         170049.870 137546.508  \n",
       "score <=2.5         165981.470 137546.508  \n",
       "score <=3.5         143095.672 130309.083  \n",
       "score <=4            58113.390  95080.445  "
      ]
     },
     "execution_count": 22,
     "metadata": {},
     "output_type": "execute_result"
    }
   ],
   "source": [
    "months=[3,6,8,10,12,14,18]\n",
    "scores=[1.5,2.5,3.5,4]\n",
    "Seller().get_improvement_data(months,scores,'profits')"
   ]
  },
  {
   "cell_type": "code",
   "execution_count": 23,
   "id": "792c2b23",
   "metadata": {
    "slideshow": {
     "slide_type": "slide"
    }
   },
   "outputs": [
    {
     "data": {
      "text/html": [
       "<div>\n",
       "<style scoped>\n",
       "    .dataframe tbody tr th:only-of-type {\n",
       "        vertical-align: middle;\n",
       "    }\n",
       "\n",
       "    .dataframe tbody tr th {\n",
       "        vertical-align: top;\n",
       "    }\n",
       "\n",
       "    .dataframe thead th {\n",
       "        text-align: right;\n",
       "    }\n",
       "</style>\n",
       "<table border=\"1\" class=\"dataframe\">\n",
       "  <thead>\n",
       "    <tr style=\"text-align: right;\">\n",
       "      <th>length_of_honeymoon</th>\n",
       "      <th>3</th>\n",
       "      <th>6</th>\n",
       "      <th>8</th>\n",
       "      <th>10</th>\n",
       "      <th>12</th>\n",
       "      <th>14</th>\n",
       "      <th>18</th>\n",
       "    </tr>\n",
       "    <tr>\n",
       "      <th>index</th>\n",
       "      <th></th>\n",
       "      <th></th>\n",
       "      <th></th>\n",
       "      <th></th>\n",
       "      <th></th>\n",
       "      <th></th>\n",
       "      <th></th>\n",
       "    </tr>\n",
       "  </thead>\n",
       "  <tbody>\n",
       "    <tr>\n",
       "      <th>score &lt;=1.5</th>\n",
       "      <td>24.78%</td>\n",
       "      <td>23.43%</td>\n",
       "      <td>21.67%</td>\n",
       "      <td>20.73%</td>\n",
       "      <td>18.06%</td>\n",
       "      <td>14.56%</td>\n",
       "      <td>11.78%</td>\n",
       "    </tr>\n",
       "    <tr>\n",
       "      <th>score &lt;=2.5</th>\n",
       "      <td>23.77%</td>\n",
       "      <td>22.64%</td>\n",
       "      <td>21.20%</td>\n",
       "      <td>20.38%</td>\n",
       "      <td>17.71%</td>\n",
       "      <td>14.22%</td>\n",
       "      <td>11.78%</td>\n",
       "    </tr>\n",
       "    <tr>\n",
       "      <th>score &lt;=3.5</th>\n",
       "      <td>17.76%</td>\n",
       "      <td>17.55%</td>\n",
       "      <td>17.48%</td>\n",
       "      <td>17.46%</td>\n",
       "      <td>15.23%</td>\n",
       "      <td>12.26%</td>\n",
       "      <td>11.16%</td>\n",
       "    </tr>\n",
       "    <tr>\n",
       "      <th>score &lt;=4</th>\n",
       "      <td>-1.47%</td>\n",
       "      <td>0.86%</td>\n",
       "      <td>2.71%</td>\n",
       "      <td>5.42%</td>\n",
       "      <td>5.35%</td>\n",
       "      <td>4.98%</td>\n",
       "      <td>8.14%</td>\n",
       "    </tr>\n",
       "  </tbody>\n",
       "</table>\n",
       "</div>"
      ],
      "text/plain": [
       "length_of_honeymoon      3       6       8       10      12      14      18\n",
       "index                                                                      \n",
       "score <=1.5          24.78%  23.43%  21.67%  20.73%  18.06%  14.56%  11.78%\n",
       "score <=2.5          23.77%  22.64%  21.20%  20.38%  17.71%  14.22%  11.78%\n",
       "score <=3.5          17.76%  17.55%  17.48%  17.46%  15.23%  12.26%  11.16%\n",
       "score <=4            -1.47%   0.86%   2.71%   5.42%   5.35%   4.98%   8.14%"
      ]
     },
     "execution_count": 23,
     "metadata": {},
     "output_type": "execute_result"
    }
   ],
   "source": [
    "Seller().get_improvement_data(months,scores,'profits',Turn_on_percentage=True)"
   ]
  },
  {
   "cell_type": "code",
   "execution_count": 24,
   "id": "1fbdc19c",
   "metadata": {
    "slideshow": {
     "slide_type": "fragment"
    }
   },
   "outputs": [
    {
     "data": {
      "text/html": [
       "<div>\n",
       "<style scoped>\n",
       "    .dataframe tbody tr th:only-of-type {\n",
       "        vertical-align: middle;\n",
       "    }\n",
       "\n",
       "    .dataframe tbody tr th {\n",
       "        vertical-align: top;\n",
       "    }\n",
       "\n",
       "    .dataframe thead th {\n",
       "        text-align: right;\n",
       "    }\n",
       "</style>\n",
       "<table border=\"1\" class=\"dataframe\">\n",
       "  <thead>\n",
       "    <tr style=\"text-align: right;\">\n",
       "      <th>length_of_honeymoon</th>\n",
       "      <th>3</th>\n",
       "      <th>6</th>\n",
       "      <th>8</th>\n",
       "      <th>10</th>\n",
       "      <th>12</th>\n",
       "      <th>14</th>\n",
       "      <th>18</th>\n",
       "    </tr>\n",
       "    <tr>\n",
       "      <th>index</th>\n",
       "      <th></th>\n",
       "      <th></th>\n",
       "      <th></th>\n",
       "      <th></th>\n",
       "      <th></th>\n",
       "      <th></th>\n",
       "      <th></th>\n",
       "    </tr>\n",
       "  </thead>\n",
       "  <tbody>\n",
       "    <tr>\n",
       "      <th>score &lt;=1.5</th>\n",
       "      <td>-34.29%</td>\n",
       "      <td>-32.76%</td>\n",
       "      <td>-31.04%</td>\n",
       "      <td>-29.58%</td>\n",
       "      <td>-26.40%</td>\n",
       "      <td>-21.92%</td>\n",
       "      <td>-16.45%</td>\n",
       "    </tr>\n",
       "    <tr>\n",
       "      <th>score &lt;=2.5</th>\n",
       "      <td>-34.38%</td>\n",
       "      <td>-32.81%</td>\n",
       "      <td>-31.06%</td>\n",
       "      <td>-29.59%</td>\n",
       "      <td>-26.41%</td>\n",
       "      <td>-21.93%</td>\n",
       "      <td>-16.45%</td>\n",
       "    </tr>\n",
       "    <tr>\n",
       "      <th>score &lt;=3.5</th>\n",
       "      <td>-35.51%</td>\n",
       "      <td>-33.72%</td>\n",
       "      <td>-31.65%</td>\n",
       "      <td>-30.00%</td>\n",
       "      <td>-26.74%</td>\n",
       "      <td>-22.17%</td>\n",
       "      <td>-16.50%</td>\n",
       "    </tr>\n",
       "    <tr>\n",
       "      <th>score &lt;=4</th>\n",
       "      <td>-44.01%</td>\n",
       "      <td>-41.25%</td>\n",
       "      <td>-38.63%</td>\n",
       "      <td>-36.09%</td>\n",
       "      <td>-31.66%</td>\n",
       "      <td>-25.97%</td>\n",
       "      <td>-18.06%</td>\n",
       "    </tr>\n",
       "  </tbody>\n",
       "</table>\n",
       "</div>"
      ],
      "text/plain": [
       "length_of_honeymoon       3        6        8        10       12       14  \\\n",
       "index                                                                       \n",
       "score <=1.5          -34.29%  -32.76%  -31.04%  -29.58%  -26.40%  -21.92%   \n",
       "score <=2.5          -34.38%  -32.81%  -31.06%  -29.59%  -26.41%  -21.93%   \n",
       "score <=3.5          -35.51%  -33.72%  -31.65%  -30.00%  -26.74%  -22.17%   \n",
       "score <=4            -44.01%  -41.25%  -38.63%  -36.09%  -31.66%  -25.97%   \n",
       "\n",
       "length_of_honeymoon       18  \n",
       "index                         \n",
       "score <=1.5          -16.45%  \n",
       "score <=2.5          -16.45%  \n",
       "score <=3.5          -16.50%  \n",
       "score <=4            -18.06%  "
      ]
     },
     "execution_count": 24,
     "metadata": {},
     "output_type": "execute_result"
    }
   ],
   "source": [
    "Seller().get_improvement_data(months,scores,'volume_reduced',Turn_on_percentage=True)"
   ]
  },
  {
   "cell_type": "code",
   "execution_count": 25,
   "id": "b64be078",
   "metadata": {
    "slideshow": {
     "slide_type": "slide"
    }
   },
   "outputs": [
    {
     "data": {
      "text/html": [
       "<div>\n",
       "<style scoped>\n",
       "    .dataframe tbody tr th:only-of-type {\n",
       "        vertical-align: middle;\n",
       "    }\n",
       "\n",
       "    .dataframe tbody tr th {\n",
       "        vertical-align: top;\n",
       "    }\n",
       "\n",
       "    .dataframe thead th {\n",
       "        text-align: right;\n",
       "    }\n",
       "</style>\n",
       "<table border=\"1\" class=\"dataframe\">\n",
       "  <thead>\n",
       "    <tr style=\"text-align: right;\">\n",
       "      <th>length_of_honeymoon</th>\n",
       "      <th>3</th>\n",
       "      <th>6</th>\n",
       "      <th>8</th>\n",
       "      <th>10</th>\n",
       "      <th>12</th>\n",
       "      <th>14</th>\n",
       "      <th>18</th>\n",
       "    </tr>\n",
       "    <tr>\n",
       "      <th>index</th>\n",
       "      <th></th>\n",
       "      <th></th>\n",
       "      <th></th>\n",
       "      <th></th>\n",
       "      <th></th>\n",
       "      <th></th>\n",
       "      <th></th>\n",
       "    </tr>\n",
       "  </thead>\n",
       "  <tbody>\n",
       "    <tr>\n",
       "      <th>score &lt;=1.5</th>\n",
       "      <td>-46.39%</td>\n",
       "      <td>-43.65%</td>\n",
       "      <td>-40.76%</td>\n",
       "      <td>-38.46%</td>\n",
       "      <td>-34.45%</td>\n",
       "      <td>-28.68%</td>\n",
       "      <td>-21.63%</td>\n",
       "    </tr>\n",
       "    <tr>\n",
       "      <th>score &lt;=2.5</th>\n",
       "      <td>-46.83%</td>\n",
       "      <td>-43.86%</td>\n",
       "      <td>-40.86%</td>\n",
       "      <td>-38.52%</td>\n",
       "      <td>-34.51%</td>\n",
       "      <td>-28.74%</td>\n",
       "      <td>-21.63%</td>\n",
       "    </tr>\n",
       "    <tr>\n",
       "      <th>score &lt;=3.5</th>\n",
       "      <td>-49.87%</td>\n",
       "      <td>-46.30%</td>\n",
       "      <td>-42.42%</td>\n",
       "      <td>-39.60%</td>\n",
       "      <td>-35.36%</td>\n",
       "      <td>-29.36%</td>\n",
       "      <td>-21.76%</td>\n",
       "    </tr>\n",
       "    <tr>\n",
       "      <th>score &lt;=4</th>\n",
       "      <td>-62.69%</td>\n",
       "      <td>-57.53%</td>\n",
       "      <td>-52.74%</td>\n",
       "      <td>-48.60%</td>\n",
       "      <td>-42.60%</td>\n",
       "      <td>-34.91%</td>\n",
       "      <td>-24.15%</td>\n",
       "    </tr>\n",
       "  </tbody>\n",
       "</table>\n",
       "</div>"
      ],
      "text/plain": [
       "length_of_honeymoon       3        6        8        10       12       14  \\\n",
       "index                                                                       \n",
       "score <=1.5          -46.39%  -43.65%  -40.76%  -38.46%  -34.45%  -28.68%   \n",
       "score <=2.5          -46.83%  -43.86%  -40.86%  -38.52%  -34.51%  -28.74%   \n",
       "score <=3.5          -49.87%  -46.30%  -42.42%  -39.60%  -35.36%  -29.36%   \n",
       "score <=4            -62.69%  -57.53%  -52.74%  -48.60%  -42.60%  -34.91%   \n",
       "\n",
       "length_of_honeymoon       18  \n",
       "index                         \n",
       "score <=1.5          -21.63%  \n",
       "score <=2.5          -21.63%  \n",
       "score <=3.5          -21.76%  \n",
       "score <=4            -24.15%  "
      ]
     },
     "execution_count": 25,
     "metadata": {},
     "output_type": "execute_result"
    }
   ],
   "source": [
    "Seller().get_improvement_data(months,scores,'cost_of_reviews',Turn_on_percentage=True)"
   ]
  },
  {
   "cell_type": "code",
   "execution_count": 26,
   "id": "b17d8f06",
   "metadata": {
    "scrolled": true,
    "slideshow": {
     "slide_type": "fragment"
    }
   },
   "outputs": [
    {
     "data": {
      "text/html": [
       "<div>\n",
       "<style scoped>\n",
       "    .dataframe tbody tr th:only-of-type {\n",
       "        vertical-align: middle;\n",
       "    }\n",
       "\n",
       "    .dataframe tbody tr th {\n",
       "        vertical-align: top;\n",
       "    }\n",
       "\n",
       "    .dataframe thead th {\n",
       "        text-align: right;\n",
       "    }\n",
       "</style>\n",
       "<table border=\"1\" class=\"dataframe\">\n",
       "  <thead>\n",
       "    <tr style=\"text-align: right;\">\n",
       "      <th>length_of_honeymoon</th>\n",
       "      <th>3</th>\n",
       "      <th>6</th>\n",
       "      <th>8</th>\n",
       "      <th>10</th>\n",
       "      <th>12</th>\n",
       "      <th>14</th>\n",
       "      <th>18</th>\n",
       "    </tr>\n",
       "    <tr>\n",
       "      <th>index</th>\n",
       "      <th></th>\n",
       "      <th></th>\n",
       "      <th></th>\n",
       "      <th></th>\n",
       "      <th></th>\n",
       "      <th></th>\n",
       "      <th></th>\n",
       "    </tr>\n",
       "  </thead>\n",
       "  <tbody>\n",
       "    <tr>\n",
       "      <th>score &lt;=1.5</th>\n",
       "      <td>-17.83%</td>\n",
       "      <td>-15.99%</td>\n",
       "      <td>-14.55%</td>\n",
       "      <td>-13.31%</td>\n",
       "      <td>-11.40%</td>\n",
       "      <td>-9.18%</td>\n",
       "      <td>-6.39%</td>\n",
       "    </tr>\n",
       "    <tr>\n",
       "      <th>score &lt;=2.5</th>\n",
       "      <td>-18.23%</td>\n",
       "      <td>-16.17%</td>\n",
       "      <td>-14.63%</td>\n",
       "      <td>-13.35%</td>\n",
       "      <td>-11.45%</td>\n",
       "      <td>-9.22%</td>\n",
       "      <td>-6.39%</td>\n",
       "    </tr>\n",
       "    <tr>\n",
       "      <th>score &lt;=3.5</th>\n",
       "      <td>-21.45%</td>\n",
       "      <td>-18.53%</td>\n",
       "      <td>-16.07%</td>\n",
       "      <td>-14.30%</td>\n",
       "      <td>-12.19%</td>\n",
       "      <td>-9.75%</td>\n",
       "      <td>-6.52%</td>\n",
       "    </tr>\n",
       "    <tr>\n",
       "      <th>score &lt;=4</th>\n",
       "      <td>-34.57%</td>\n",
       "      <td>-29.14%</td>\n",
       "      <td>-25.26%</td>\n",
       "      <td>-21.81%</td>\n",
       "      <td>-18.06%</td>\n",
       "      <td>-14.08%</td>\n",
       "      <td>-8.34%</td>\n",
       "    </tr>\n",
       "  </tbody>\n",
       "</table>\n",
       "</div>"
      ],
      "text/plain": [
       "length_of_honeymoon       3        6        8        10       12       14  \\\n",
       "index                                                                       \n",
       "score <=1.5          -17.83%  -15.99%  -14.55%  -13.31%  -11.40%   -9.18%   \n",
       "score <=2.5          -18.23%  -16.17%  -14.63%  -13.35%  -11.45%   -9.22%   \n",
       "score <=3.5          -21.45%  -18.53%  -16.07%  -14.30%  -12.19%   -9.75%   \n",
       "score <=4            -34.57%  -29.14%  -25.26%  -21.81%  -18.06%  -14.08%   \n",
       "\n",
       "length_of_honeymoon      18  \n",
       "index                        \n",
       "score <=1.5          -6.39%  \n",
       "score <=2.5          -6.39%  \n",
       "score <=3.5          -6.52%  \n",
       "score <=4            -8.34%  "
      ]
     },
     "execution_count": 26,
     "metadata": {},
     "output_type": "execute_result"
    }
   ],
   "source": [
    "Seller().get_improvement_data(months,scores,'IT_cost',Turn_on_percentage=True)"
   ]
  },
  {
   "cell_type": "markdown",
   "id": "9e19467f",
   "metadata": {
    "slideshow": {
     "slide_type": "slide"
    }
   },
   "source": [
    "### Conclusion \n",
    "\n",
    "Based on the information we have so far, we recommend a honeymoon of length from 3 or 6 months, a cut-off score of 1.5 or 2.5. However, we  didn't include IT_cost into the profit, change in IT_cost should also be considered."
   ]
  },
  {
   "cell_type": "markdown",
   "id": "12c20af0",
   "metadata": {
    "slideshow": {
     "slide_type": "slide"
    }
   },
   "source": [
    "# Action 2:  Boost sales/increase price in certain categories. Remove products _if_ necessary."
   ]
  },
  {
   "cell_type": "code",
   "execution_count": 27,
   "id": "b4c5f8bf",
   "metadata": {
    "slideshow": {
     "slide_type": "skip"
    }
   },
   "outputs": [
    {
     "name": "stderr",
     "output_type": "stream",
     "text": [
      "/Users/yayahuo/.pyenv/versions/3.8.13/envs/lewagon/lib/python3.8/site-packages/pandas/core/frame.py:3641: SettingWithCopyWarning: \n",
      "A value is trying to be set on a copy of a slice from a DataFrame.\n",
      "Try using .loc[row_indexer,col_indexer] = value instead\n",
      "\n",
      "See the caveats in the documentation: https://pandas.pydata.org/pandas-docs/stable/user_guide/indexing.html#returning-a-view-versus-a-copy\n",
      "  self[k1] = value[k2]\n",
      "/Users/yayahuo/code/Ricotta-md/data-challenges/04-Decision-Science/olist/order.py:43: SettingWithCopyWarning: \n",
      "A value is trying to be set on a copy of a slice from a DataFrame.\n",
      "Try using .loc[row_indexer,col_indexer] = value instead\n",
      "\n",
      "See the caveats in the documentation: https://pandas.pydata.org/pandas-docs/stable/user_guide/indexing.html#returning-a-view-versus-a-copy\n",
      "  tmp_order_df['wait_time']=tmp_order_df['order_delivered_customer_date']-tmp_order_df['order_purchase_timestamp']\n",
      "/Users/yayahuo/code/Ricotta-md/data-challenges/04-Decision-Science/olist/order.py:47: SettingWithCopyWarning: \n",
      "A value is trying to be set on a copy of a slice from a DataFrame.\n",
      "Try using .loc[row_indexer,col_indexer] = value instead\n",
      "\n",
      "See the caveats in the documentation: https://pandas.pydata.org/pandas-docs/stable/user_guide/indexing.html#returning-a-view-versus-a-copy\n",
      "  tmp_order_df['wait_time']=tmp_order_df['wait_time']/np.timedelta64(24,'h')\n",
      "/Users/yayahuo/code/Ricotta-md/data-challenges/04-Decision-Science/olist/order.py:53: SettingWithCopyWarning: \n",
      "A value is trying to be set on a copy of a slice from a DataFrame.\n",
      "Try using .loc[row_indexer,col_indexer] = value instead\n",
      "\n",
      "See the caveats in the documentation: https://pandas.pydata.org/pandas-docs/stable/user_guide/indexing.html#returning-a-view-versus-a-copy\n",
      "  tmp_order_df['expected_wait_time']=tmp_order_df['order_estimated_delivery_date']-tmp_order_df['order_purchase_timestamp']\n",
      "/Users/yayahuo/code/Ricotta-md/data-challenges/04-Decision-Science/olist/order.py:55: SettingWithCopyWarning: \n",
      "A value is trying to be set on a copy of a slice from a DataFrame.\n",
      "Try using .loc[row_indexer,col_indexer] = value instead\n",
      "\n",
      "See the caveats in the documentation: https://pandas.pydata.org/pandas-docs/stable/user_guide/indexing.html#returning-a-view-versus-a-copy\n",
      "  tmp_order_df['expected_wait_time']=tmp_order_df['expected_wait_time']/np.timedelta64(24,'h')\n",
      "/Users/yayahuo/code/Ricotta-md/data-challenges/04-Decision-Science/olist/order.py:61: SettingWithCopyWarning: \n",
      "A value is trying to be set on a copy of a slice from a DataFrame.\n",
      "Try using .loc[row_indexer,col_indexer] = value instead\n",
      "\n",
      "See the caveats in the documentation: https://pandas.pydata.org/pandas-docs/stable/user_guide/indexing.html#returning-a-view-versus-a-copy\n",
      "  tmp_order_df['delay_vs_expected']=(tmp_order_df['order_estimated_delivery_date']-tmp_order_df['order_delivered_customer_date'])/np.timedelta64(24,'h')\n",
      "/Users/yayahuo/code/Ricotta-md/data-challenges/04-Decision-Science/olist/order.py:62: SettingWithCopyWarning: \n",
      "A value is trying to be set on a copy of a slice from a DataFrame.\n",
      "Try using .loc[row_indexer,col_indexer] = value instead\n",
      "\n",
      "See the caveats in the documentation: https://pandas.pydata.org/pandas-docs/stable/user_guide/indexing.html#returning-a-view-versus-a-copy\n",
      "  tmp_order_df['delay_vs_expected']=tmp_order_df['delay_vs_expected'].apply(lambda x : x if x>0 else 0)\n"
     ]
    }
   ],
   "source": [
    "# Get product data\n",
    "from olist.product_solution import Product\n",
    "product=Product().get_training_data()\n",
    "product['product_volumn_cm3']=product['product_height_cm']*product['product_length_cm']*product['product_width_cm']\n",
    "\n",
    "\n",
    "# find costs for each product_id\n",
    "orders_reviews = Order().get_review_score()\n",
    "orders_products = Olist().get_data()['order_items'][['order_id',\n",
    "                                         'product_id']].drop_duplicates()\n",
    "\n",
    "orders_products_with_score = orders_products.merge(orders_reviews, on='order_id')\n",
    "orders_products_with_score['costs']=orders_products_with_score['review_score'].map({1:100,2:50,3:40,4:0,5:0})\n",
    "orders_products_with_score.columns\n",
    "\n",
    "\n",
    "\n",
    "result = orders_products_with_score.groupby('product_id', as_index=False).agg({\n",
    "    #'dim_is_one_star':'mean',\n",
    "    #'dim_is_five_star':'mean',\n",
    "    #'review_score':'mean',\n",
    "    'costs':'sum'})\n",
    "result.columns = [\n",
    "            'product_id', #'share_of_one_stars', 'share_of_five_stars',\n",
    "            'costs'\n",
    "        ]\n",
    "\n",
    "product=result.merge(product,on='product_id',how='inner')\n",
    "product['profits']=product['sales']-product['costs']\n",
    "product['IT_costs']=np.sqrt(product['n_orders'])"
   ]
  },
  {
   "cell_type": "code",
   "execution_count": 28,
   "id": "0727e6ee",
   "metadata": {
    "slideshow": {
     "slide_type": "skip"
    }
   },
   "outputs": [
    {
     "data": {
      "text/html": [
       "<div>\n",
       "<style scoped>\n",
       "    .dataframe tbody tr th:only-of-type {\n",
       "        vertical-align: middle;\n",
       "    }\n",
       "\n",
       "    .dataframe tbody tr th {\n",
       "        vertical-align: top;\n",
       "    }\n",
       "\n",
       "    .dataframe thead th {\n",
       "        text-align: right;\n",
       "    }\n",
       "</style>\n",
       "<table border=\"1\" class=\"dataframe\">\n",
       "  <thead>\n",
       "    <tr style=\"text-align: right;\">\n",
       "      <th></th>\n",
       "      <th>product_id</th>\n",
       "      <th>costs</th>\n",
       "      <th>product_name_length</th>\n",
       "      <th>product_description_length</th>\n",
       "      <th>product_photos_qty</th>\n",
       "      <th>product_weight_g</th>\n",
       "      <th>product_length_cm</th>\n",
       "      <th>product_height_cm</th>\n",
       "      <th>product_width_cm</th>\n",
       "      <th>category</th>\n",
       "      <th>...</th>\n",
       "      <th>price</th>\n",
       "      <th>share_of_one_stars</th>\n",
       "      <th>share_of_five_stars</th>\n",
       "      <th>review_score</th>\n",
       "      <th>n_orders</th>\n",
       "      <th>quantity</th>\n",
       "      <th>sales</th>\n",
       "      <th>product_volumn_cm3</th>\n",
       "      <th>profits</th>\n",
       "      <th>IT_costs</th>\n",
       "    </tr>\n",
       "  </thead>\n",
       "  <tbody>\n",
       "    <tr>\n",
       "      <th>0</th>\n",
       "      <td>00066f42aeeb9f3007548bb9d3f33c38</td>\n",
       "      <td>0</td>\n",
       "      <td>53.000</td>\n",
       "      <td>596.000</td>\n",
       "      <td>6.000</td>\n",
       "      <td>300.000</td>\n",
       "      <td>20.000</td>\n",
       "      <td>16.000</td>\n",
       "      <td>16.000</td>\n",
       "      <td>perfumery</td>\n",
       "      <td>...</td>\n",
       "      <td>101.650</td>\n",
       "      <td>0.000</td>\n",
       "      <td>1.000</td>\n",
       "      <td>5.000</td>\n",
       "      <td>1</td>\n",
       "      <td>1</td>\n",
       "      <td>101.650</td>\n",
       "      <td>5120.000</td>\n",
       "      <td>101.650</td>\n",
       "      <td>1.000</td>\n",
       "    </tr>\n",
       "    <tr>\n",
       "      <th>1</th>\n",
       "      <td>00088930e925c41fd95ebfe695fd2655</td>\n",
       "      <td>0</td>\n",
       "      <td>56.000</td>\n",
       "      <td>752.000</td>\n",
       "      <td>4.000</td>\n",
       "      <td>1225.000</td>\n",
       "      <td>55.000</td>\n",
       "      <td>10.000</td>\n",
       "      <td>26.000</td>\n",
       "      <td>auto</td>\n",
       "      <td>...</td>\n",
       "      <td>129.900</td>\n",
       "      <td>0.000</td>\n",
       "      <td>0.000</td>\n",
       "      <td>4.000</td>\n",
       "      <td>1</td>\n",
       "      <td>1</td>\n",
       "      <td>129.900</td>\n",
       "      <td>14300.000</td>\n",
       "      <td>129.900</td>\n",
       "      <td>1.000</td>\n",
       "    </tr>\n",
       "    <tr>\n",
       "      <th>2</th>\n",
       "      <td>0009406fd7479715e4bef61dd91f2462</td>\n",
       "      <td>100</td>\n",
       "      <td>50.000</td>\n",
       "      <td>266.000</td>\n",
       "      <td>2.000</td>\n",
       "      <td>300.000</td>\n",
       "      <td>45.000</td>\n",
       "      <td>15.000</td>\n",
       "      <td>35.000</td>\n",
       "      <td>bed_bath_table</td>\n",
       "      <td>...</td>\n",
       "      <td>229.000</td>\n",
       "      <td>1.000</td>\n",
       "      <td>0.000</td>\n",
       "      <td>1.000</td>\n",
       "      <td>1</td>\n",
       "      <td>1</td>\n",
       "      <td>229.000</td>\n",
       "      <td>23625.000</td>\n",
       "      <td>129.000</td>\n",
       "      <td>1.000</td>\n",
       "    </tr>\n",
       "    <tr>\n",
       "      <th>3</th>\n",
       "      <td>000b8f95fcb9e0096488278317764d19</td>\n",
       "      <td>0</td>\n",
       "      <td>25.000</td>\n",
       "      <td>364.000</td>\n",
       "      <td>3.000</td>\n",
       "      <td>550.000</td>\n",
       "      <td>19.000</td>\n",
       "      <td>24.000</td>\n",
       "      <td>12.000</td>\n",
       "      <td>housewares</td>\n",
       "      <td>...</td>\n",
       "      <td>58.900</td>\n",
       "      <td>0.000</td>\n",
       "      <td>1.000</td>\n",
       "      <td>5.000</td>\n",
       "      <td>2</td>\n",
       "      <td>2</td>\n",
       "      <td>117.800</td>\n",
       "      <td>5472.000</td>\n",
       "      <td>117.800</td>\n",
       "      <td>1.414</td>\n",
       "    </tr>\n",
       "    <tr>\n",
       "      <th>4</th>\n",
       "      <td>000d9be29b5207b54e86aa1b1ac54872</td>\n",
       "      <td>0</td>\n",
       "      <td>48.000</td>\n",
       "      <td>613.000</td>\n",
       "      <td>4.000</td>\n",
       "      <td>250.000</td>\n",
       "      <td>22.000</td>\n",
       "      <td>11.000</td>\n",
       "      <td>15.000</td>\n",
       "      <td>watches_gifts</td>\n",
       "      <td>...</td>\n",
       "      <td>199.000</td>\n",
       "      <td>0.000</td>\n",
       "      <td>1.000</td>\n",
       "      <td>5.000</td>\n",
       "      <td>1</td>\n",
       "      <td>1</td>\n",
       "      <td>199.000</td>\n",
       "      <td>3630.000</td>\n",
       "      <td>199.000</td>\n",
       "      <td>1.000</td>\n",
       "    </tr>\n",
       "    <tr>\n",
       "      <th>...</th>\n",
       "      <td>...</td>\n",
       "      <td>...</td>\n",
       "      <td>...</td>\n",
       "      <td>...</td>\n",
       "      <td>...</td>\n",
       "      <td>...</td>\n",
       "      <td>...</td>\n",
       "      <td>...</td>\n",
       "      <td>...</td>\n",
       "      <td>...</td>\n",
       "      <td>...</td>\n",
       "      <td>...</td>\n",
       "      <td>...</td>\n",
       "      <td>...</td>\n",
       "      <td>...</td>\n",
       "      <td>...</td>\n",
       "      <td>...</td>\n",
       "      <td>...</td>\n",
       "      <td>...</td>\n",
       "      <td>...</td>\n",
       "      <td>...</td>\n",
       "    </tr>\n",
       "    <tr>\n",
       "      <th>31479</th>\n",
       "      <td>fff6177642830a9a94a0f2cba5e476d1</td>\n",
       "      <td>0</td>\n",
       "      <td>54.000</td>\n",
       "      <td>842.000</td>\n",
       "      <td>1.000</td>\n",
       "      <td>1400.000</td>\n",
       "      <td>42.000</td>\n",
       "      <td>25.000</td>\n",
       "      <td>15.000</td>\n",
       "      <td>cool_stuff</td>\n",
       "      <td>...</td>\n",
       "      <td>114.990</td>\n",
       "      <td>0.000</td>\n",
       "      <td>0.500</td>\n",
       "      <td>4.500</td>\n",
       "      <td>2</td>\n",
       "      <td>2</td>\n",
       "      <td>229.980</td>\n",
       "      <td>15750.000</td>\n",
       "      <td>229.980</td>\n",
       "      <td>1.414</td>\n",
       "    </tr>\n",
       "    <tr>\n",
       "      <th>31480</th>\n",
       "      <td>fff81cc3158d2725c0655ab9ba0f712c</td>\n",
       "      <td>0</td>\n",
       "      <td>54.000</td>\n",
       "      <td>643.000</td>\n",
       "      <td>1.000</td>\n",
       "      <td>58.000</td>\n",
       "      <td>16.000</td>\n",
       "      <td>16.000</td>\n",
       "      <td>11.000</td>\n",
       "      <td>health_beauty</td>\n",
       "      <td>...</td>\n",
       "      <td>90.000</td>\n",
       "      <td>0.000</td>\n",
       "      <td>0.000</td>\n",
       "      <td>4.000</td>\n",
       "      <td>1</td>\n",
       "      <td>1</td>\n",
       "      <td>90.000</td>\n",
       "      <td>2816.000</td>\n",
       "      <td>90.000</td>\n",
       "      <td>1.000</td>\n",
       "    </tr>\n",
       "    <tr>\n",
       "      <th>31481</th>\n",
       "      <td>fff9553ac224cec9d15d49f5a263411f</td>\n",
       "      <td>0</td>\n",
       "      <td>22.000</td>\n",
       "      <td>328.000</td>\n",
       "      <td>3.000</td>\n",
       "      <td>150.000</td>\n",
       "      <td>16.000</td>\n",
       "      <td>13.000</td>\n",
       "      <td>11.000</td>\n",
       "      <td>fashion_bags_accessories</td>\n",
       "      <td>...</td>\n",
       "      <td>32.000</td>\n",
       "      <td>0.000</td>\n",
       "      <td>1.000</td>\n",
       "      <td>5.000</td>\n",
       "      <td>1</td>\n",
       "      <td>1</td>\n",
       "      <td>32.000</td>\n",
       "      <td>2288.000</td>\n",
       "      <td>32.000</td>\n",
       "      <td>1.000</td>\n",
       "    </tr>\n",
       "    <tr>\n",
       "      <th>31482</th>\n",
       "      <td>fffdb2d0ec8d6a61f0a0a0db3f25b441</td>\n",
       "      <td>0</td>\n",
       "      <td>47.000</td>\n",
       "      <td>501.000</td>\n",
       "      <td>5.000</td>\n",
       "      <td>150.000</td>\n",
       "      <td>16.000</td>\n",
       "      <td>4.000</td>\n",
       "      <td>13.000</td>\n",
       "      <td>computers_accessories</td>\n",
       "      <td>...</td>\n",
       "      <td>33.990</td>\n",
       "      <td>0.000</td>\n",
       "      <td>1.000</td>\n",
       "      <td>5.000</td>\n",
       "      <td>5</td>\n",
       "      <td>5</td>\n",
       "      <td>169.950</td>\n",
       "      <td>832.000</td>\n",
       "      <td>169.950</td>\n",
       "      <td>2.236</td>\n",
       "    </tr>\n",
       "    <tr>\n",
       "      <th>31483</th>\n",
       "      <td>fffe9eeff12fcbd74a2f2b007dde0c58</td>\n",
       "      <td>0</td>\n",
       "      <td>57.000</td>\n",
       "      <td>1536.000</td>\n",
       "      <td>3.000</td>\n",
       "      <td>3900.000</td>\n",
       "      <td>43.000</td>\n",
       "      <td>16.000</td>\n",
       "      <td>11.000</td>\n",
       "      <td>toys</td>\n",
       "      <td>...</td>\n",
       "      <td>249.990</td>\n",
       "      <td>0.000</td>\n",
       "      <td>0.000</td>\n",
       "      <td>4.000</td>\n",
       "      <td>1</td>\n",
       "      <td>1</td>\n",
       "      <td>249.990</td>\n",
       "      <td>7568.000</td>\n",
       "      <td>249.990</td>\n",
       "      <td>1.000</td>\n",
       "    </tr>\n",
       "  </tbody>\n",
       "</table>\n",
       "<p>31484 rows × 21 columns</p>\n",
       "</div>"
      ],
      "text/plain": [
       "                             product_id  costs  product_name_length  \\\n",
       "0      00066f42aeeb9f3007548bb9d3f33c38      0               53.000   \n",
       "1      00088930e925c41fd95ebfe695fd2655      0               56.000   \n",
       "2      0009406fd7479715e4bef61dd91f2462    100               50.000   \n",
       "3      000b8f95fcb9e0096488278317764d19      0               25.000   \n",
       "4      000d9be29b5207b54e86aa1b1ac54872      0               48.000   \n",
       "...                                 ...    ...                  ...   \n",
       "31479  fff6177642830a9a94a0f2cba5e476d1      0               54.000   \n",
       "31480  fff81cc3158d2725c0655ab9ba0f712c      0               54.000   \n",
       "31481  fff9553ac224cec9d15d49f5a263411f      0               22.000   \n",
       "31482  fffdb2d0ec8d6a61f0a0a0db3f25b441      0               47.000   \n",
       "31483  fffe9eeff12fcbd74a2f2b007dde0c58      0               57.000   \n",
       "\n",
       "       product_description_length  product_photos_qty  product_weight_g  \\\n",
       "0                         596.000               6.000           300.000   \n",
       "1                         752.000               4.000          1225.000   \n",
       "2                         266.000               2.000           300.000   \n",
       "3                         364.000               3.000           550.000   \n",
       "4                         613.000               4.000           250.000   \n",
       "...                           ...                 ...               ...   \n",
       "31479                     842.000               1.000          1400.000   \n",
       "31480                     643.000               1.000            58.000   \n",
       "31481                     328.000               3.000           150.000   \n",
       "31482                     501.000               5.000           150.000   \n",
       "31483                    1536.000               3.000          3900.000   \n",
       "\n",
       "       product_length_cm  product_height_cm  product_width_cm  \\\n",
       "0                 20.000             16.000            16.000   \n",
       "1                 55.000             10.000            26.000   \n",
       "2                 45.000             15.000            35.000   \n",
       "3                 19.000             24.000            12.000   \n",
       "4                 22.000             11.000            15.000   \n",
       "...                  ...                ...               ...   \n",
       "31479             42.000             25.000            15.000   \n",
       "31480             16.000             16.000            11.000   \n",
       "31481             16.000             13.000            11.000   \n",
       "31482             16.000              4.000            13.000   \n",
       "31483             43.000             16.000            11.000   \n",
       "\n",
       "                       category  ...   price  share_of_one_stars  \\\n",
       "0                     perfumery  ... 101.650               0.000   \n",
       "1                          auto  ... 129.900               0.000   \n",
       "2                bed_bath_table  ... 229.000               1.000   \n",
       "3                    housewares  ...  58.900               0.000   \n",
       "4                 watches_gifts  ... 199.000               0.000   \n",
       "...                         ...  ...     ...                 ...   \n",
       "31479                cool_stuff  ... 114.990               0.000   \n",
       "31480             health_beauty  ...  90.000               0.000   \n",
       "31481  fashion_bags_accessories  ...  32.000               0.000   \n",
       "31482     computers_accessories  ...  33.990               0.000   \n",
       "31483                      toys  ... 249.990               0.000   \n",
       "\n",
       "       share_of_five_stars  review_score  n_orders  quantity   sales  \\\n",
       "0                    1.000         5.000         1         1 101.650   \n",
       "1                    0.000         4.000         1         1 129.900   \n",
       "2                    0.000         1.000         1         1 229.000   \n",
       "3                    1.000         5.000         2         2 117.800   \n",
       "4                    1.000         5.000         1         1 199.000   \n",
       "...                    ...           ...       ...       ...     ...   \n",
       "31479                0.500         4.500         2         2 229.980   \n",
       "31480                0.000         4.000         1         1  90.000   \n",
       "31481                1.000         5.000         1         1  32.000   \n",
       "31482                1.000         5.000         5         5 169.950   \n",
       "31483                0.000         4.000         1         1 249.990   \n",
       "\n",
       "       product_volumn_cm3  profits  IT_costs  \n",
       "0                5120.000  101.650     1.000  \n",
       "1               14300.000  129.900     1.000  \n",
       "2               23625.000  129.000     1.000  \n",
       "3                5472.000  117.800     1.414  \n",
       "4                3630.000  199.000     1.000  \n",
       "...                   ...      ...       ...  \n",
       "31479           15750.000  229.980     1.414  \n",
       "31480            2816.000   90.000     1.000  \n",
       "31481            2288.000   32.000     1.000  \n",
       "31482             832.000  169.950     2.236  \n",
       "31483            7568.000  249.990     1.000  \n",
       "\n",
       "[31484 rows x 21 columns]"
      ]
     },
     "execution_count": 28,
     "metadata": {},
     "output_type": "execute_result"
    }
   ],
   "source": [
    "product"
   ]
  },
  {
   "cell_type": "code",
   "execution_count": 29,
   "id": "15ddbda7",
   "metadata": {
    "slideshow": {
     "slide_type": "fragment"
    }
   },
   "outputs": [],
   "source": [
    "features=['product_name_length', 'product_description_length',\n",
    "       'product_photos_qty', 'product_weight_g', 'product_length_cm',\n",
    "       'product_height_cm', 'product_width_cm', 'wait_time',\n",
    "       'price', 'share_of_one_stars', 'share_of_five_stars', 'review_score',\n",
    "       'n_orders', 'quantity', 'product_volumn_cm3']\n",
    "\n",
    "product_std=standardize(product,features)\n",
    "\n",
    "model3=smf.ols(formula='sales ~ product_name_length+product_description_length+\\\n",
    "               product_photos_qty+product_weight_g+product_width_cm+\\\n",
    "               wait_time+price+\\\n",
    "               n_orders+quantity+product_volumn_cm3+C(category)+1',data=product_std).fit()\n",
    "\n"
   ]
  },
  {
   "cell_type": "code",
   "execution_count": 30,
   "id": "31abfed5",
   "metadata": {
    "slideshow": {
     "slide_type": "slide"
    }
   },
   "outputs": [
    {
     "data": {
      "image/png": "[encoded data removed]",
      "text/plain": [
       "<Figure size 432x288 with 1 Axes>"
      ]
     },
     "metadata": {
      "needs_background": "light"
     },
     "output_type": "display_data"
    }
   ],
   "source": [
    "# validate the model\n",
    "product_pred=model3.predict(product_std)\n",
    "product_true=product['sales']\n",
    "g=sns.kdeplot(product_true,label='true sales',color='orange')\n",
    "g=sns.kdeplot(product_pred,label='predicted sales',color='lightblue')\n",
    "g.set_xlim(-1000,3000)\n",
    "plt.legend();"
   ]
  },
  {
   "cell_type": "code",
   "execution_count": 31,
   "id": "29808e27",
   "metadata": {
    "slideshow": {
     "slide_type": "subslide"
    }
   },
   "outputs": [
    {
     "data": {
      "image/png": "[encoded data removed]",
      "text/plain": [
       "<Figure size 432x288 with 1 Axes>"
      ]
     },
     "metadata": {
      "needs_background": "light"
     },
     "output_type": "display_data"
    }
   ],
   "source": [
    "# plot residuals\n",
    "residuals=product_pred-product_true\n",
    "g=sns.histplot(residuals,stat='density',kde=True,bins=2000)\n",
    "g.set_xlim(-1000,2000);"
   ]
  },
  {
   "cell_type": "code",
   "execution_count": 32,
   "id": "0c5e937a",
   "metadata": {
    "slideshow": {
     "slide_type": "slide"
    }
   },
   "outputs": [
    {
     "data": {
      "image/png": "[encoded data removed]",
      "text/plain": [
       "<Figure size 1440x432 with 1 Axes>"
      ]
     },
     "metadata": {
      "needs_background": "light"
     },
     "output_type": "display_data"
    }
   ],
   "source": [
    "params=pd.concat([model3.params,model3.pvalues],axis=1)\n",
    "params.columns=['coef','p-values']\n",
    "# Select sigfinicant parameters \n",
    "params=params[params['p-values']<0.05]\n",
    "                    \n",
    "plt.figure(figsize=(20,6))\n",
    "ax=params['coef'].sort_values().plot(kind='barh')\n",
    "ax.bar_label(ax.containers[0]);"
   ]
  },
  {
   "cell_type": "markdown",
   "id": "b20bb349",
   "metadata": {
    "slideshow": {
     "slide_type": "subslide"
    }
   },
   "source": [
    "The most important categories are:\n",
    "\n",
    "- computer(++)\n",
    "\n",
    "- oven and coffee (++)\n",
    "\n",
    "- electronics (-)\n",
    "\n",
    "- commerce and business (-)\n",
    "\n"
   ]
  },
  {
   "cell_type": "code",
   "execution_count": 33,
   "id": "49bbf7d0",
   "metadata": {
    "slideshow": {
     "slide_type": "skip"
    }
   },
   "outputs": [],
   "source": [
    "bad_cat=['electronics','food','industry_commerce_and_business','telephony','garden_tools']\n",
    "bad1=product[(product['category']=='electronics')\n",
    "                    & (product['profits']<0)]\n",
    "bad1=bad1[['category','profits']].groupby('category').sum()\n",
    "\n",
    "bad2=product[(product['category']=='food')\n",
    "                    & (product['profits']<0)]\n",
    "bad2=bad2[['category','profits']].groupby('category').sum()\n",
    "\n",
    "\n",
    "bad3=product[(product['category']=='industry_commerce_and_business')\n",
    "                    & (product['profits']<0)]\n",
    "bad3=bad3[['category','profits']].groupby('category').sum()\n",
    "\n",
    "\n",
    "bad4=product[(product['category']=='telephony')\n",
    "                    & (product['profits']<0)]\n",
    "bad4=bad4[['category','profits']].groupby('category').sum()\n",
    "\n",
    "bad5=product[(product['category']=='garden_tools')\n",
    "                    & (product['profits']<0)]\n",
    "bad5=bad5[['category','profits']].groupby('category').sum()\n",
    "\n",
    "improvement=pd.concat([bad1,bad2,bad3,bad4,bad5],axis=0)\n",
    "improvement\n",
    "\n",
    "improvement['improve profits by']=-improvement['profits']/total_profits\n",
    "improvement.loc[len(improvement.index)] = [improvement['profits'].sum(),improvement['improve profits by'].sum()]\n",
    "improvement=improvement.rename(index={4: 'sum'})\n",
    "improvement['improve profits by']=improvement['improve profits by'].apply(lambda x: \"{:.2%}\".format(x))\n"
   ]
  },
  {
   "cell_type": "code",
   "execution_count": 34,
   "id": "dbadab1e",
   "metadata": {
    "slideshow": {
     "slide_type": "skip"
    }
   },
   "outputs": [
    {
     "name": "stdout",
     "output_type": "stream",
     "text": [
      "electronics\n",
      "              profits\n",
      "category             \n",
      "electronics -6126.240\n",
      "food\n",
      "          profits\n",
      "category         \n",
      "food     -178.990\n",
      "industry_commerce_and_business\n",
      "Empty DataFrame\n",
      "Columns: [profits]\n",
      "Index: []\n",
      "telephony\n",
      "             profits\n",
      "category            \n",
      "telephony -10926.710\n",
      "garden_tools\n",
      "               profits\n",
      "category              \n",
      "garden_tools -1886.850\n",
      "computers\n",
      "Empty DataFrame\n",
      "Columns: [profits]\n",
      "Index: []\n",
      "small_appliances_home_oven_and_coffee\n",
      "Empty DataFrame\n",
      "Columns: [profits]\n",
      "Index: []\n"
     ]
    },
    {
     "data": {
      "text/html": [
       "<div>\n",
       "<style scoped>\n",
       "    .dataframe tbody tr th:only-of-type {\n",
       "        vertical-align: middle;\n",
       "    }\n",
       "\n",
       "    .dataframe tbody tr th {\n",
       "        vertical-align: top;\n",
       "    }\n",
       "\n",
       "    .dataframe thead th {\n",
       "        text-align: right;\n",
       "    }\n",
       "</style>\n",
       "<table border=\"1\" class=\"dataframe\">\n",
       "  <thead>\n",
       "    <tr style=\"text-align: right;\">\n",
       "      <th></th>\n",
       "      <th>profits</th>\n",
       "      <th>improve profits by</th>\n",
       "    </tr>\n",
       "    <tr>\n",
       "      <th>category</th>\n",
       "      <th></th>\n",
       "      <th></th>\n",
       "    </tr>\n",
       "  </thead>\n",
       "  <tbody>\n",
       "    <tr>\n",
       "      <th>electronics</th>\n",
       "      <td>-6126.240</td>\n",
       "      <td>0.52%</td>\n",
       "    </tr>\n",
       "    <tr>\n",
       "      <th>food</th>\n",
       "      <td>-178.990</td>\n",
       "      <td>0.02%</td>\n",
       "    </tr>\n",
       "    <tr>\n",
       "      <th>telephony</th>\n",
       "      <td>-10926.710</td>\n",
       "      <td>0.94%</td>\n",
       "    </tr>\n",
       "    <tr>\n",
       "      <th>garden_tools</th>\n",
       "      <td>-1886.850</td>\n",
       "      <td>0.16%</td>\n",
       "    </tr>\n",
       "    <tr>\n",
       "      <th>sum</th>\n",
       "      <td>-19118.790</td>\n",
       "      <td>1.64%</td>\n",
       "    </tr>\n",
       "  </tbody>\n",
       "</table>\n",
       "</div>"
      ],
      "text/plain": [
       "                profits improve profits by\n",
       "category                                  \n",
       "electronics   -6126.240              0.52%\n",
       "food           -178.990              0.02%\n",
       "telephony    -10926.710              0.94%\n",
       "garden_tools  -1886.850              0.16%\n",
       "sum          -19118.790              1.64%"
      ]
     },
     "execution_count": 34,
     "metadata": {},
     "output_type": "execute_result"
    }
   ],
   "source": [
    "selected_cats=['electronics','food','industry_commerce_and_business','telephony',\n",
    "               'garden_tools','computers','small_appliances_home_oven_and_coffee']\n",
    "improvement=pd.DataFrame()\n",
    "for cat in selected_cats:\n",
    "    print(cat)\n",
    "    bad1=product[(product['category']==cat) & (product['profits']<0)]\n",
    "    bad1=bad1[['category','profits']].groupby('category').sum()\n",
    "    print(bad1)\n",
    "    improvement=pd.concat([improvement,bad1],axis=0)\n",
    "    \n",
    "\n",
    "improvement['improve profits by']=-improvement['profits']/total_profits\n",
    "improvement.loc[len(improvement.index)] = [improvement['profits'].sum(),improvement['improve profits by'].sum()]\n",
    "improvement=improvement.rename(index={4: 'sum'})\n",
    "improvement['improve profits by']=improvement['improve profits by'].apply(lambda x: \"{:.2%}\".format(x))\n",
    "improvement"
   ]
  },
  {
   "cell_type": "code",
   "execution_count": 35,
   "id": "9d1beb64",
   "metadata": {
    "slideshow": {
     "slide_type": "slide"
    }
   },
   "outputs": [
    {
     "data": {
      "text/html": [
       "<div>\n",
       "<style scoped>\n",
       "    .dataframe tbody tr th:only-of-type {\n",
       "        vertical-align: middle;\n",
       "    }\n",
       "\n",
       "    .dataframe tbody tr th {\n",
       "        vertical-align: top;\n",
       "    }\n",
       "\n",
       "    .dataframe thead th {\n",
       "        text-align: right;\n",
       "    }\n",
       "</style>\n",
       "<table border=\"1\" class=\"dataframe\">\n",
       "  <thead>\n",
       "    <tr style=\"text-align: right;\">\n",
       "      <th></th>\n",
       "      <th>profits</th>\n",
       "      <th>improve profits by</th>\n",
       "    </tr>\n",
       "    <tr>\n",
       "      <th>category</th>\n",
       "      <th></th>\n",
       "      <th></th>\n",
       "    </tr>\n",
       "  </thead>\n",
       "  <tbody>\n",
       "    <tr>\n",
       "      <th>electronics</th>\n",
       "      <td>-6126.240</td>\n",
       "      <td>0.52%</td>\n",
       "    </tr>\n",
       "    <tr>\n",
       "      <th>food</th>\n",
       "      <td>-178.990</td>\n",
       "      <td>0.02%</td>\n",
       "    </tr>\n",
       "    <tr>\n",
       "      <th>telephony</th>\n",
       "      <td>-10926.710</td>\n",
       "      <td>0.94%</td>\n",
       "    </tr>\n",
       "    <tr>\n",
       "      <th>garden_tools</th>\n",
       "      <td>-1886.850</td>\n",
       "      <td>0.16%</td>\n",
       "    </tr>\n",
       "    <tr>\n",
       "      <th>sum</th>\n",
       "      <td>-19118.790</td>\n",
       "      <td>1.64%</td>\n",
       "    </tr>\n",
       "  </tbody>\n",
       "</table>\n",
       "</div>"
      ],
      "text/plain": [
       "                profits improve profits by\n",
       "category                                  \n",
       "electronics   -6126.240              0.52%\n",
       "food           -178.990              0.02%\n",
       "telephony    -10926.710              0.94%\n",
       "garden_tools  -1886.850              0.16%\n",
       "sum          -19118.790              1.64%"
      ]
     },
     "execution_count": 35,
     "metadata": {},
     "output_type": "execute_result"
    }
   ],
   "source": [
    "selected_cats=['electronics','food','industry_commerce_and_business','telephony',\n",
    "               'garden_tools','computers','small_appliances_home_oven_and_coffee']\n",
    "improvement"
   ]
  },
  {
   "cell_type": "code",
   "execution_count": 36,
   "id": "9cf314e4",
   "metadata": {
    "slideshow": {
     "slide_type": "subslide"
    }
   },
   "outputs": [
    {
     "data": {
      "image/png": "[encoded data removed]",
      "text/plain": [
       "<Figure size 1440x432 with 1 Axes>"
      ]
     },
     "metadata": {
      "needs_background": "light"
     },
     "output_type": "display_data"
    }
   ],
   "source": [
    "params=pd.concat([model3.params,model3.pvalues],axis=1)\n",
    "params.columns=['coef','p-values']\n",
    "# Select sigfinicant parameters \n",
    "params=params[params['p-values']<0.05]\n",
    "                    \n",
    "plt.figure(figsize=(20,6))\n",
    "ax=params['coef'].sort_values().plot(kind='barh')\n",
    "ax.bar_label(ax.containers[0]);"
   ]
  },
  {
   "cell_type": "markdown",
   "id": "9280d593",
   "metadata": {
    "slideshow": {
     "slide_type": "subslide"
    }
   },
   "source": [
    "Neither does Computers nor small_appliances_home_oven_and_coffee have negative-product."
   ]
  },
  {
   "cell_type": "code",
   "execution_count": 37,
   "id": "937b8417",
   "metadata": {
    "slideshow": {
     "slide_type": "slide"
    }
   },
   "outputs": [
    {
     "data": {
      "text/html": [
       "<div>\n",
       "<style scoped>\n",
       "    .dataframe tbody tr th:only-of-type {\n",
       "        vertical-align: middle;\n",
       "    }\n",
       "\n",
       "    .dataframe tbody tr th {\n",
       "        vertical-align: top;\n",
       "    }\n",
       "\n",
       "    .dataframe thead th {\n",
       "        text-align: right;\n",
       "    }\n",
       "</style>\n",
       "<table border=\"1\" class=\"dataframe\">\n",
       "  <thead>\n",
       "    <tr style=\"text-align: right;\">\n",
       "      <th></th>\n",
       "      <th>n_orders</th>\n",
       "      <th>profits</th>\n",
       "      <th>sales</th>\n",
       "      <th>IT_costs</th>\n",
       "    </tr>\n",
       "    <tr>\n",
       "      <th>category</th>\n",
       "      <th></th>\n",
       "      <th></th>\n",
       "      <th></th>\n",
       "      <th></th>\n",
       "    </tr>\n",
       "  </thead>\n",
       "  <tbody>\n",
       "    <tr>\n",
       "      <th>health_beauty</th>\n",
       "      <td>8962</td>\n",
       "      <td>1123072.280</td>\n",
       "      <td>1251312.280</td>\n",
       "      <td>3664.051</td>\n",
       "    </tr>\n",
       "    <tr>\n",
       "      <th>watches_gifts</th>\n",
       "      <td>5761</td>\n",
       "      <td>1090103.570</td>\n",
       "      <td>1187783.570</td>\n",
       "      <td>2084.626</td>\n",
       "    </tr>\n",
       "    <tr>\n",
       "      <th>sports_leisure</th>\n",
       "      <td>7798</td>\n",
       "      <td>862378.150</td>\n",
       "      <td>976548.150</td>\n",
       "      <td>4073.098</td>\n",
       "    </tr>\n",
       "    <tr>\n",
       "      <th>bed_bath_table</th>\n",
       "      <td>10101</td>\n",
       "      <td>828874.980</td>\n",
       "      <td>1030834.980</td>\n",
       "      <td>4517.758</td>\n",
       "    </tr>\n",
       "    <tr>\n",
       "      <th>computers_accessories</th>\n",
       "      <td>6840</td>\n",
       "      <td>776655.740</td>\n",
       "      <td>899465.740</td>\n",
       "      <td>2610.813</td>\n",
       "    </tr>\n",
       "  </tbody>\n",
       "</table>\n",
       "</div>"
      ],
      "text/plain": [
       "                       n_orders     profits       sales  IT_costs\n",
       "category                                                         \n",
       "health_beauty              8962 1123072.280 1251312.280  3664.051\n",
       "watches_gifts              5761 1090103.570 1187783.570  2084.626\n",
       "sports_leisure             7798  862378.150  976548.150  4073.098\n",
       "bed_bath_table            10101  828874.980 1030834.980  4517.758\n",
       "computers_accessories      6840  776655.740  899465.740  2610.813"
      ]
     },
     "execution_count": 37,
     "metadata": {},
     "output_type": "execute_result"
    }
   ],
   "source": [
    "#Popular categories\n",
    "selected=product[['category','n_orders','profits','sales','IT_costs']].groupby('category').sum()\\\n",
    ".sort_values(by='profits',ascending=False)\n",
    "selected.head()"
   ]
  },
  {
   "cell_type": "markdown",
   "id": "c90684d7",
   "metadata": {
    "slideshow": {
     "slide_type": "notes"
    }
   },
   "source": [
    "Neither is Computers nor small_appliances_home_oven_and_coffee is among the popular categories."
   ]
  },
  {
   "cell_type": "code",
   "execution_count": 38,
   "id": "f2eef56a",
   "metadata": {
    "slideshow": {
     "slide_type": "skip"
    }
   },
   "outputs": [],
   "source": [
    "sorted_product=product.sort_values(by='profits',ascending=True)\n",
    "get_rid_of=[500,1000,1500,2000,2500,3000,4000]\n",
    "improvement=pd.DataFrame()\n",
    "\n",
    "total_sales=product['sales'].sum()\n",
    "total_orders=product['n_orders'].sum()\n",
    "#total_IT=product['IT_costs'].sum()\n",
    "\n",
    "for num in get_rid_of:\n",
    "    #print(cat)\n",
    "    bad=sorted_product[['profits','sales','n_orders']].head(num).sum()\n",
    "    #bad=sorted_product.head(num).sum()\n",
    "    improvement=pd.concat([improvement,bad],axis=1)\n",
    "    improvement=improvement.rename(columns={0:num})\n",
    "improvement=improvement.T\n",
    "improvement['profits']=improvement['profits']/total_profits\n",
    "improvement['sales']=improvement['sales']/total_sales\n",
    "improvement['n_orders']=improvement['n_orders']/total_orders\n",
    "improvement=improvement.rename(columns={'n_orders':'volumes_reduced'})\n",
    "\n",
    "improvement=improvement.applymap(lambda x: \"{:.2%}\".format(-x))"
   ]
  },
  {
   "cell_type": "code",
   "execution_count": 39,
   "id": "27e62bfc",
   "metadata": {
    "slideshow": {
     "slide_type": "slide"
    }
   },
   "outputs": [
    {
     "data": {
      "text/html": [
       "<div>\n",
       "<style scoped>\n",
       "    .dataframe tbody tr th:only-of-type {\n",
       "        vertical-align: middle;\n",
       "    }\n",
       "\n",
       "    .dataframe tbody tr th {\n",
       "        vertical-align: top;\n",
       "    }\n",
       "\n",
       "    .dataframe thead th {\n",
       "        text-align: right;\n",
       "    }\n",
       "</style>\n",
       "<table border=\"1\" class=\"dataframe\">\n",
       "  <thead>\n",
       "    <tr style=\"text-align: right;\">\n",
       "      <th></th>\n",
       "      <th>profits</th>\n",
       "      <th>sales</th>\n",
       "      <th>volumes_reduced</th>\n",
       "    </tr>\n",
       "  </thead>\n",
       "  <tbody>\n",
       "    <tr>\n",
       "      <th>500</th>\n",
       "      <td>4.98%</td>\n",
       "      <td>-0.33%</td>\n",
       "      <td>-2.02%</td>\n",
       "    </tr>\n",
       "    <tr>\n",
       "      <th>1000</th>\n",
       "      <td>7.58%</td>\n",
       "      <td>-0.54%</td>\n",
       "      <td>-2.99%</td>\n",
       "    </tr>\n",
       "    <tr>\n",
       "      <th>1500</th>\n",
       "      <td>9.17%</td>\n",
       "      <td>-0.79%</td>\n",
       "      <td>-3.92%</td>\n",
       "    </tr>\n",
       "    <tr>\n",
       "      <th>2000</th>\n",
       "      <td>10.07%</td>\n",
       "      <td>-1.03%</td>\n",
       "      <td>-4.84%</td>\n",
       "    </tr>\n",
       "    <tr>\n",
       "      <th>2500</th>\n",
       "      <td>10.39%</td>\n",
       "      <td>-1.31%</td>\n",
       "      <td>-5.81%</td>\n",
       "    </tr>\n",
       "    <tr>\n",
       "      <th>3000</th>\n",
       "      <td>10.20%</td>\n",
       "      <td>-1.55%</td>\n",
       "      <td>-6.65%</td>\n",
       "    </tr>\n",
       "    <tr>\n",
       "      <th>4000</th>\n",
       "      <td>8.98%</td>\n",
       "      <td>-1.84%</td>\n",
       "      <td>-8.03%</td>\n",
       "    </tr>\n",
       "  </tbody>\n",
       "</table>\n",
       "</div>"
      ],
      "text/plain": [
       "     profits   sales volumes_reduced\n",
       "500    4.98%  -0.33%          -2.02%\n",
       "1000   7.58%  -0.54%          -2.99%\n",
       "1500   9.17%  -0.79%          -3.92%\n",
       "2000  10.07%  -1.03%          -4.84%\n",
       "2500  10.39%  -1.31%          -5.81%\n",
       "3000  10.20%  -1.55%          -6.65%\n",
       "4000   8.98%  -1.84%          -8.03%"
      ]
     },
     "execution_count": 39,
     "metadata": {},
     "output_type": "execute_result"
    }
   ],
   "source": [
    "get_rid_of=[500,1000,1500,2000,2500,3000,4000]\n",
    "improvement"
   ]
  },
  {
   "cell_type": "markdown",
   "id": "1f13bf72",
   "metadata": {
    "slideshow": {
     "slide_type": "slide"
    }
   },
   "source": [
    "### Conclusions:\n",
    "\n",
    "- Computer and small_appliances_home_oven_and_coffee have highest impact on sales, and neither contains any negative-profit products. Surprisingly, neither is among the biggest contributors to the profits. Boost sales in these two categories may be very beneficial. \n",
    "\n",
    "\n",
    "- Remove products if necessary. \n",
    "\n",
    "   -Removing products from high-impact categories is not enough. Removing the worst 2000-3000 products may help improve the profit by 10%, it might be more conservative compared to removing sellers based on the volumes_reduced. Removal may be helpful in improving reviews scores and IT_costs, more analysis is needed for this.\n",
    "   \n",
    "   -We do not know how cost are allocated within the same orders (we assumed all products within the same order share equal (full) responsibilities to the cost_of_review of that order). Such detailed information would be helpful for us to identify bad products.\n"
   ]
  },
  {
   "cell_type": "markdown",
   "id": "cc01ec49",
   "metadata": {},
   "source": []
  },
  {
   "cell_type": "markdown",
   "id": "230ccba1",
   "metadata": {
    "slideshow": {
     "slide_type": "skip"
    }
   },
   "source": [
    "# Action 3 : restrict selling between customer-seller states: (AM, CE)\t\n"
   ]
  },
  {
   "cell_type": "code",
   "execution_count": 42,
   "id": "b0566844",
   "metadata": {
    "slideshow": {
     "slide_type": "skip"
    }
   },
   "outputs": [],
   "source": [
    "# Get customer data\n",
    "# returns: order_id, customer_id,customer_state\n",
    "customers=Olist().get_data()['customers'][['customer_id','customer_state']].drop_duplicates()\n",
    "#customers.columns\n",
    "orders=Olist().get_data()['orders'][['customer_id','order_id']].drop_duplicates()\n",
    "customers=customers.merge(orders,on='customer_id',how='inner')\n",
    "\n",
    "# Get customer data\n",
    "# returns: order_id, seller_id,seller_state\n",
    "sellers=Olist().get_data()['sellers'][['seller_id','seller_state']].drop_duplicates()\n",
    "order_items=Olist().get_data()['order_items'][['order_id','seller_id']].drop_duplicates()\n",
    "sellers=sellers.merge(order_items,on='seller_id',how='inner').drop_duplicates()"
   ]
  },
  {
   "cell_type": "code",
   "execution_count": 51,
   "id": "d29cc68c-2d19-4112-a51b-5eb0088ce8ea",
   "metadata": {},
   "outputs": [
    {
     "ename": "KeyError",
     "evalue": "'order_id'",
     "output_type": "error",
     "traceback": [
      "\u001b[0;31m---------------------------------------------------------------------------\u001b[0m",
      "\u001b[0;31mKeyError\u001b[0m                                  Traceback (most recent call last)",
      "\u001b[0;32m/var/folders/bh/j223y_td6s35mkxwj_m8bxdm0000gn/T/ipykernel_54069/3063990648.py\u001b[0m in \u001b[0;36m<module>\u001b[0;34m\u001b[0m\n\u001b[0;32m----> 1\u001b[0;31m \u001b[0morder\u001b[0m\u001b[0;34m=\u001b[0m\u001b[0mOrder\u001b[0m\u001b[0;34m(\u001b[0m\u001b[0;34m)\u001b[0m\u001b[0;34m.\u001b[0m\u001b[0mget_training_data\u001b[0m\u001b[0;34m(\u001b[0m\u001b[0;34m)\u001b[0m\u001b[0;34m\u001b[0m\u001b[0;34m\u001b[0m\u001b[0m\n\u001b[0m\u001b[1;32m      2\u001b[0m \u001b[0morder\u001b[0m\u001b[0;34m.\u001b[0m\u001b[0mhead\u001b[0m\u001b[0;34m(\u001b[0m\u001b[0;34m)\u001b[0m\u001b[0;34m\u001b[0m\u001b[0;34m\u001b[0m\u001b[0m\n",
      "\u001b[0;32m~/code/Ricotta-md/data-challenges/04-Decision-Science/olist/order_solution.py\u001b[0m in \u001b[0;36mget_training_data\u001b[0;34m(self, is_delivered, with_distance_seller_customer)\u001b[0m\n\u001b[1;32m    235\u001b[0m         \u001b[0;31m# $CHALLENGIFY_BEGIN\u001b[0m\u001b[0;34m\u001b[0m\u001b[0;34m\u001b[0m\u001b[0;34m\u001b[0m\u001b[0m\n\u001b[1;32m    236\u001b[0m         \u001b[0mtraining_set\u001b[0m \u001b[0;34m=\u001b[0m\u001b[0;31m\\\u001b[0m\u001b[0;34m\u001b[0m\u001b[0;34m\u001b[0m\u001b[0m\n\u001b[0;32m--> 237\u001b[0;31m             \u001b[0mself\u001b[0m\u001b[0;34m.\u001b[0m\u001b[0mget_wait_time\u001b[0m\u001b[0;34m(\u001b[0m\u001b[0mis_delivered\u001b[0m\u001b[0;34m)\u001b[0m\u001b[0;31m\\\u001b[0m\u001b[0;34m\u001b[0m\u001b[0;34m\u001b[0m\u001b[0m\n\u001b[0m\u001b[1;32m    238\u001b[0m                 .merge(\n\u001b[1;32m    239\u001b[0m                 \u001b[0mself\u001b[0m\u001b[0;34m.\u001b[0m\u001b[0mget_review_score\u001b[0m\u001b[0;34m(\u001b[0m\u001b[0;34m)\u001b[0m\u001b[0;34m,\u001b[0m \u001b[0mon\u001b[0m\u001b[0;34m=\u001b[0m\u001b[0;34m'order_id'\u001b[0m\u001b[0;34m\u001b[0m\u001b[0;34m\u001b[0m\u001b[0m\n",
      "\u001b[0;32m~/.pyenv/versions/3.8.13/envs/lewagon/lib/python3.8/site-packages/pandas/core/frame.py\u001b[0m in \u001b[0;36mmerge\u001b[0;34m(self, right, how, on, left_on, right_on, left_index, right_index, sort, suffixes, copy, indicator, validate)\u001b[0m\n\u001b[1;32m   9188\u001b[0m         \u001b[0;32mfrom\u001b[0m \u001b[0mpandas\u001b[0m\u001b[0;34m.\u001b[0m\u001b[0mcore\u001b[0m\u001b[0;34m.\u001b[0m\u001b[0mreshape\u001b[0m\u001b[0;34m.\u001b[0m\u001b[0mmerge\u001b[0m \u001b[0;32mimport\u001b[0m \u001b[0mmerge\u001b[0m\u001b[0;34m\u001b[0m\u001b[0;34m\u001b[0m\u001b[0m\n\u001b[1;32m   9189\u001b[0m \u001b[0;34m\u001b[0m\u001b[0m\n\u001b[0;32m-> 9190\u001b[0;31m         return merge(\n\u001b[0m\u001b[1;32m   9191\u001b[0m             \u001b[0mself\u001b[0m\u001b[0;34m,\u001b[0m\u001b[0;34m\u001b[0m\u001b[0;34m\u001b[0m\u001b[0m\n\u001b[1;32m   9192\u001b[0m             \u001b[0mright\u001b[0m\u001b[0;34m,\u001b[0m\u001b[0;34m\u001b[0m\u001b[0;34m\u001b[0m\u001b[0m\n",
      "\u001b[0;32m~/.pyenv/versions/3.8.13/envs/lewagon/lib/python3.8/site-packages/pandas/core/reshape/merge.py\u001b[0m in \u001b[0;36mmerge\u001b[0;34m(left, right, how, on, left_on, right_on, left_index, right_index, sort, suffixes, copy, indicator, validate)\u001b[0m\n\u001b[1;32m    104\u001b[0m     \u001b[0mvalidate\u001b[0m\u001b[0;34m:\u001b[0m \u001b[0mstr\u001b[0m \u001b[0;34m|\u001b[0m \u001b[0;32mNone\u001b[0m \u001b[0;34m=\u001b[0m \u001b[0;32mNone\u001b[0m\u001b[0;34m,\u001b[0m\u001b[0;34m\u001b[0m\u001b[0;34m\u001b[0m\u001b[0m\n\u001b[1;32m    105\u001b[0m ) -> DataFrame:\n\u001b[0;32m--> 106\u001b[0;31m     op = _MergeOperation(\n\u001b[0m\u001b[1;32m    107\u001b[0m         \u001b[0mleft\u001b[0m\u001b[0;34m,\u001b[0m\u001b[0;34m\u001b[0m\u001b[0;34m\u001b[0m\u001b[0m\n\u001b[1;32m    108\u001b[0m         \u001b[0mright\u001b[0m\u001b[0;34m,\u001b[0m\u001b[0;34m\u001b[0m\u001b[0;34m\u001b[0m\u001b[0m\n",
      "\u001b[0;32m~/.pyenv/versions/3.8.13/envs/lewagon/lib/python3.8/site-packages/pandas/core/reshape/merge.py\u001b[0m in \u001b[0;36m__init__\u001b[0;34m(self, left, right, how, on, left_on, right_on, axis, left_index, right_index, sort, suffixes, copy, indicator, validate)\u001b[0m\n\u001b[1;32m    697\u001b[0m             \u001b[0mself\u001b[0m\u001b[0;34m.\u001b[0m\u001b[0mright_join_keys\u001b[0m\u001b[0;34m,\u001b[0m\u001b[0;34m\u001b[0m\u001b[0;34m\u001b[0m\u001b[0m\n\u001b[1;32m    698\u001b[0m             \u001b[0mself\u001b[0m\u001b[0;34m.\u001b[0m\u001b[0mjoin_names\u001b[0m\u001b[0;34m,\u001b[0m\u001b[0;34m\u001b[0m\u001b[0;34m\u001b[0m\u001b[0m\n\u001b[0;32m--> 699\u001b[0;31m         ) = self._get_merge_keys()\n\u001b[0m\u001b[1;32m    700\u001b[0m \u001b[0;34m\u001b[0m\u001b[0m\n\u001b[1;32m    701\u001b[0m         \u001b[0;31m# validate the merge keys dtypes. We may need to coerce\u001b[0m\u001b[0;34m\u001b[0m\u001b[0;34m\u001b[0m\u001b[0;34m\u001b[0m\u001b[0m\n",
      "\u001b[0;32m~/.pyenv/versions/3.8.13/envs/lewagon/lib/python3.8/site-packages/pandas/core/reshape/merge.py\u001b[0m in \u001b[0;36m_get_merge_keys\u001b[0;34m(self)\u001b[0m\n\u001b[1;32m   1094\u001b[0m                     \u001b[0;32mif\u001b[0m \u001b[0;32mnot\u001b[0m \u001b[0mis_rkey\u001b[0m\u001b[0;34m(\u001b[0m\u001b[0mrk\u001b[0m\u001b[0;34m)\u001b[0m\u001b[0;34m:\u001b[0m\u001b[0;34m\u001b[0m\u001b[0;34m\u001b[0m\u001b[0m\n\u001b[1;32m   1095\u001b[0m                         \u001b[0;32mif\u001b[0m \u001b[0mrk\u001b[0m \u001b[0;32mis\u001b[0m \u001b[0;32mnot\u001b[0m \u001b[0;32mNone\u001b[0m\u001b[0;34m:\u001b[0m\u001b[0;34m\u001b[0m\u001b[0;34m\u001b[0m\u001b[0m\n\u001b[0;32m-> 1096\u001b[0;31m                             \u001b[0mright_keys\u001b[0m\u001b[0;34m.\u001b[0m\u001b[0mappend\u001b[0m\u001b[0;34m(\u001b[0m\u001b[0mright\u001b[0m\u001b[0;34m.\u001b[0m\u001b[0m_get_label_or_level_values\u001b[0m\u001b[0;34m(\u001b[0m\u001b[0mrk\u001b[0m\u001b[0;34m)\u001b[0m\u001b[0;34m)\u001b[0m\u001b[0;34m\u001b[0m\u001b[0;34m\u001b[0m\u001b[0m\n\u001b[0m\u001b[1;32m   1097\u001b[0m                         \u001b[0;32melse\u001b[0m\u001b[0;34m:\u001b[0m\u001b[0;34m\u001b[0m\u001b[0;34m\u001b[0m\u001b[0m\n\u001b[1;32m   1098\u001b[0m                             \u001b[0;31m# work-around for merge_asof(right_index=True)\u001b[0m\u001b[0;34m\u001b[0m\u001b[0;34m\u001b[0m\u001b[0;34m\u001b[0m\u001b[0m\n",
      "\u001b[0;32m~/.pyenv/versions/3.8.13/envs/lewagon/lib/python3.8/site-packages/pandas/core/generic.py\u001b[0m in \u001b[0;36m_get_label_or_level_values\u001b[0;34m(self, key, axis)\u001b[0m\n\u001b[1;32m   1777\u001b[0m             \u001b[0mvalues\u001b[0m \u001b[0;34m=\u001b[0m \u001b[0mself\u001b[0m\u001b[0;34m.\u001b[0m\u001b[0maxes\u001b[0m\u001b[0;34m[\u001b[0m\u001b[0maxis\u001b[0m\u001b[0;34m]\u001b[0m\u001b[0;34m.\u001b[0m\u001b[0mget_level_values\u001b[0m\u001b[0;34m(\u001b[0m\u001b[0mkey\u001b[0m\u001b[0;34m)\u001b[0m\u001b[0;34m.\u001b[0m\u001b[0m_values\u001b[0m\u001b[0;34m\u001b[0m\u001b[0;34m\u001b[0m\u001b[0m\n\u001b[1;32m   1778\u001b[0m         \u001b[0;32melse\u001b[0m\u001b[0;34m:\u001b[0m\u001b[0;34m\u001b[0m\u001b[0;34m\u001b[0m\u001b[0m\n\u001b[0;32m-> 1779\u001b[0;31m             \u001b[0;32mraise\u001b[0m \u001b[0mKeyError\u001b[0m\u001b[0;34m(\u001b[0m\u001b[0mkey\u001b[0m\u001b[0;34m)\u001b[0m\u001b[0;34m\u001b[0m\u001b[0;34m\u001b[0m\u001b[0m\n\u001b[0m\u001b[1;32m   1780\u001b[0m \u001b[0;34m\u001b[0m\u001b[0m\n\u001b[1;32m   1781\u001b[0m         \u001b[0;31m# Check for duplicates\u001b[0m\u001b[0;34m\u001b[0m\u001b[0;34m\u001b[0m\u001b[0;34m\u001b[0m\u001b[0m\n",
      "\u001b[0;31mKeyError\u001b[0m: 'order_id'"
     ]
    }
   ],
   "source": [
    "order=Order().get_training_data()\n",
    "order.head()"
   ]
  },
  {
   "cell_type": "markdown",
   "id": "217594c7",
   "metadata": {
    "slideshow": {
     "slide_type": "slide"
    }
   },
   "source": [
    "# Thank you!"
   ]
  }
 ],
 "metadata": {
  "celltoolbar": "Slideshow",
  "kernelspec": {
   "display_name": "Python 3 (ipykernel)",
   "language": "python",
   "name": "python3"
  },
  "language_info": {
   "codemirror_mode": {
    "name": "ipython",
    "version": 3
   },
   "file_extension": ".py",
   "mimetype": "text/x-python",
   "name": "python",
   "nbconvert_exporter": "python",
   "pygments_lexer": "ipython3",
   "version": "3.8.13"
  },
  "toc": {
   "base_numbering": 1,
   "nav_menu": {},
   "number_sections": true,
   "sideBar": true,
   "skip_h1_title": false,
   "title_cell": "Table of Contents",
   "title_sidebar": "Contents",
   "toc_cell": false,
   "toc_position": {},
   "toc_section_display": true,
   "toc_window_display": true
  }
 },
 "nbformat": 4,
 "nbformat_minor": 5
}
